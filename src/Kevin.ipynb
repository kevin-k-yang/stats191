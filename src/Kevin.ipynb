{
 "cells": [
  {
   "cell_type": "code",
   "execution_count": 5,
   "metadata": {},
   "outputs": [],
   "source": [
    "import pandas as pd\n",
    "# generate player data\n",
    "dfs = []\n",
    "for i in range(10):\n",
    "    csv_name = \"../data/game_\" + str(i + 1) + \"_data.csv\"\n",
    "    dfs.append(pd.read_csv(csv_name))"
   ]
  },
  {
   "cell_type": "code",
   "execution_count": 12,
   "metadata": {},
   "outputs": [],
   "source": [
    "# pd.concat([dfs[0].loc[dfs[0][\"student label\"] == 1], dfs[0].loc[dfs[0][\"student label\"] == 2]])\n",
    "for i in range(1000):\n",
    "    player_dfs = []\n",
    "    for j in range(10):\n",
    "        # get data from dfs[i]\n",
    "        player_dfs.append(dfs[j].loc[dfs[j][\"student label\"] == i + 1])\n",
    "    new_df = pd.concat(player_dfs)\n",
    "    new_string = \"student_\" + str(i + 1) + \".csv\"\n",
    "    new_df.to_csv(\"../data/player_data/\" + new_string)\n"
   ]
  }
 ],
 "metadata": {
  "kernelspec": {
   "display_name": "Python 3.9.7 ('base')",
   "language": "python",
   "name": "python3"
  },
  "language_info": {
   "codemirror_mode": {
    "name": "ipython",
    "version": 3
   },
   "file_extension": ".py",
   "mimetype": "text/x-python",
   "name": "python",
   "nbconvert_exporter": "python",
   "pygments_lexer": "ipython3",
   "version": "3.9.7"
  },
  "orig_nbformat": 4,
  "vscode": {
   "interpreter": {
    "hash": "31fbef9df90861d1958267d2117435dfa788463010f21c14a474ff8f22582477"
   }
  }
 },
 "nbformat": 4,
 "nbformat_minor": 2
}
