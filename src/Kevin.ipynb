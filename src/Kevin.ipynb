{
 "cells": [
  {
   "cell_type": "code",
   "execution_count": 59,
   "metadata": {},
   "outputs": [],
   "source": [
    "import pandas as pd\n",
    "# generate player data\n",
    "dfs = []\n",
    "for i in range(10):\n",
    "    csv_name = \"../data/game_data/game_\" + str(i + 1) + \"_data.csv\"\n",
    "    dfs.append(pd.read_csv(csv_name))"
   ]
  },
  {
   "cell_type": "code",
   "execution_count": 56,
   "metadata": {},
   "outputs": [],
   "source": [
    "# organize data by player and store into player data\n",
    "for i in range(1000):\n",
    "    player_dfs = []\n",
    "    for j in range(10):\n",
    "        # get data from dfs[i]\n",
    "        player_dfs.append(dfs[j].loc[dfs[j][\"student label\"] == i + 1])\n",
    "    new_df = pd.concat(player_dfs)\n",
    "    new_df = new_df.rename(columns={\n",
    "        \"game score\": \"score\",\n",
    "        \"game scheduled\": \"game_scheduled\",\n",
    "        \"percent training sessions attended\": \"percent_training_seshes\",\n",
    "        \"overall fitness score\": \"fitness_score\",\n",
    "        \"# extra strategy sessions attended\": \"extra_strategy_sessions_attended\",\n",
    "        \"hours of sleep the night before game\": \"hours_of_sleep\",\n",
    "        \"early bird/night owl\": \"early_late\",\n",
    "        \"previous competitive sports\": \"previous_sport\",\n",
    "        \"# meals on day prior to game\": \"meals\",\n",
    "        \"university year\": \"university_year\",\n",
    "    })\n",
    "    new_string = \"student_\" + str(i + 1) + \".csv\"\n",
    "    new_df.to_csv(\"../data/player_data/\" + new_string)\n"
   ]
  },
  {
   "cell_type": "code",
   "execution_count": 29,
   "metadata": {},
   "outputs": [
    {
     "name": "stdout",
     "output_type": "stream",
     "text": [
      "                            OLS Regression Results                            \n",
      "==============================================================================\n",
      "Dep. Variable:                  score   R-squared:                       0.926\n",
      "Model:                            OLS   Adj. R-squared:                  0.866\n",
      "Method:                 Least Squares   F-statistic:                     15.57\n",
      "Date:                Mon, 13 Mar 2023   Prob (F-statistic):            0.00499\n",
      "Time:                        19:47:48   Log-Likelihood:                -29.394\n",
      "No. Observations:                  10   AIC:                             68.79\n",
      "Df Residuals:                       5   BIC:                             70.30\n",
      "Df Model:                           4                                         \n",
      "Covariance Type:            nonrobust                                         \n",
      "====================================================================================================\n",
      "                                       coef    std err          t      P>|t|      [0.025      0.975]\n",
      "----------------------------------------------------------------------------------------------------\n",
      "Intercept                           -0.9398      1.234     -0.761      0.481      -4.112       2.233\n",
      "percent_training_seshes             51.2948     15.288      3.355      0.020      11.995      90.594\n",
      "fitness_score                       16.7702      7.179      2.336      0.067      -1.684      35.225\n",
      "extra_strategy_sessions_attended     4.4427      3.298      1.347      0.236      -4.035      12.921\n",
      "hours_of_sleep                      -4.1009      2.694     -1.522      0.189     -11.027       2.826\n",
      "meals                               -3.7592      4.937     -0.761      0.481     -16.449       8.931\n",
      "==============================================================================\n",
      "Omnibus:                        3.600   Durbin-Watson:                   2.574\n",
      "Prob(Omnibus):                  0.165   Jarque-Bera (JB):                0.943\n",
      "Skew:                           0.680   Prob(JB):                        0.624\n",
      "Kurtosis:                       3.642   Cond. No.                     3.60e+16\n",
      "==============================================================================\n",
      "\n",
      "Notes:\n",
      "[1] Standard Errors assume that the covariance matrix of the errors is correctly specified.\n",
      "[2] The smallest eigenvalue is 7.35e-31. This might indicate that there are\n",
      "strong multicollinearity problems or that the design matrix is singular.\n"
     ]
    },
    {
     "name": "stderr",
     "output_type": "stream",
     "text": [
      "/Users/kevvyang/opt/anaconda3/lib/python3.9/site-packages/scipy/stats/_stats_py.py:1769: UserWarning: kurtosistest only valid for n>=20 ... continuing anyway, n=10\n",
      "  warnings.warn(\"kurtosistest only valid for n>=20 ... continuing \"\n"
     ]
    }
   ],
   "source": [
    "from process import run_ols\n",
    "test = pd.read_csv(\"../data/player_data/student_1.csv\")\n",
    "formula = \"score ~ percent_training_seshes + fitness_score + extra_strategy_sessions_attended + hours_of_sleep + meals\"\n",
    "result = run_ols(formula, test)"
   ]
  },
  {
   "cell_type": "code",
   "execution_count": 64,
   "metadata": {},
   "outputs": [],
   "source": [
    "from sklearn.preprocessing import OneHotEncoder\n",
    "\n",
    "# create game_data_one_hot\n",
    "for i in range(10):\n",
    "    df = dfs[0]\n",
    "\n",
    "    # one-hot-encode\n",
    "    encoder = OneHotEncoder(handle_unknown='error')\n",
    "\n",
    "    #perform one-hot encoding on all qualitative variables\n",
    "    coast_df = pd.DataFrame(encoder.fit_transform(df[[\"coast\"]]).toarray())\n",
    "    coast_df.columns = encoder.get_feature_names()\n",
    "\n",
    "    game_scheduled_df = pd.DataFrame(encoder.fit_transform(df[[\"game scheduled\"]]).toarray())\n",
    "    game_scheduled_df.columns = encoder.get_feature_names()\n",
    "\n",
    "    sleep_schedule_df = pd.DataFrame(encoder.fit_transform(df[[\"early bird/night owl\"]]).toarray())\n",
    "    sleep_schedule_df.columns = encoder.get_feature_names()\n",
    "\n",
    "    year_df = pd.DataFrame(encoder.fit_transform(df[[\"university year\"]]).toarray())\n",
    "    year_df.columns = encoder.get_feature_names()\n",
    "\n",
    "    # merge all one-hot encodings back\n",
    "    new_df = df.join([coast_df, game_scheduled_df, sleep_schedule_df, year_df])\n",
    "    new_df = new_df.drop(columns=[\"coast\", \"game scheduled\", \"early bird/night owl\", \"university year\"])\n",
    "\n",
    "    # add to player_data_one_hot\n",
    "    new_string = \"game_\" + str(i + 1) + \"_data_one_hot.csv\"\n",
    "    new_df.to_csv(\"../data/game_data_one_hot/\" + new_string)"
   ]
  },
  {
   "cell_type": "code",
   "execution_count": 68,
   "metadata": {},
   "outputs": [],
   "source": [
    "dfs_one_hot = []\n",
    "for i in range(10):\n",
    "    csv_name = \"../data/game_data_one_hot/game_\" + str(i + 1) + \"_data_one_hot.csv\"\n",
    "    dfs_one_hot.append(pd.read_csv(csv_name))"
   ]
  },
  {
   "cell_type": "code",
   "execution_count": 71,
   "metadata": {},
   "outputs": [],
   "source": [
    "# create player_data_one_hot\n",
    "for i in range(1000):\n",
    "    player_dfs = []\n",
    "    for j in range(10):\n",
    "        # get data from dfs[i]\n",
    "        player_dfs.append(dfs_one_hot[j].loc[dfs_one_hot[j][\"student label\"] == i + 1])\n",
    "    new_df = pd.concat(player_dfs)\n",
    "    new_df = new_df.rename(columns={\n",
    "        \"game score\": \"score\",\n",
    "        \"percent training sessions attended\": \"percent_training_seshes\",\n",
    "        \"overall fitness score\": \"fitness_score\",\n",
    "        \"# extra strategy sessions attended\": \"extra_strategy_sessions_attended\",\n",
    "        \"hours of sleep the night before game\": \"hours_of_sleep\",\n",
    "        \"previous competitive sports\": \"previous_sport\",\n",
    "        \"# meals on day prior to game\": \"meals\",\n",
    "        \"x0_east coast\": \"east_coast\",\n",
    "        \"x0_west coast\": \"west_coast\",\n",
    "        \"x0_evening\": \"evening\",\n",
    "        \"x0_morning\": \"morning\",\n",
    "        \"x0_noon\": \"noon\",\n",
    "        \"x0_early bird\": \"early_bird\",\n",
    "        \"x0_night owl\": \"night_owl\",\n",
    "        \"x0_frosh\": \"frosh\",\n",
    "        \"x0_junior\": \"junior\",\n",
    "        \"x0_senior\": \"senior\",\n",
    "        \"x0_sophomore\": \"soph\",\n",
    "    })\n",
    "\n",
    "    new_string = \"student_\" + str(i + 1) + \"_one_hot.csv\"\n",
    "    new_df.to_csv(\"../data/player_data_one_hot/\" + new_string)"
   ]
  }
 ],
 "metadata": {
  "kernelspec": {
   "display_name": "Python 3.9.7 ('base')",
   "language": "python",
   "name": "python3"
  },
  "language_info": {
   "codemirror_mode": {
    "name": "ipython",
    "version": 3
   },
   "file_extension": ".py",
   "mimetype": "text/x-python",
   "name": "python",
   "nbconvert_exporter": "python",
   "pygments_lexer": "ipython3",
   "version": "3.9.7"
  },
  "orig_nbformat": 4,
  "vscode": {
   "interpreter": {
    "hash": "31fbef9df90861d1958267d2117435dfa788463010f21c14a474ff8f22582477"
   }
  }
 },
 "nbformat": 4,
 "nbformat_minor": 2
}
