{
 "cells": [
  {
   "cell_type": "code",
   "execution_count": 4,
   "metadata": {},
   "outputs": [],
   "source": [
    "# all needed imports\n",
    "import pandas as pd\n",
    "from process import run_ols\n",
    "from sklearn.preprocessing import OneHotEncoder"
   ]
  },
  {
   "cell_type": "code",
   "execution_count": 5,
   "metadata": {},
   "outputs": [],
   "source": [
    "import pandas as pd\n",
    "# generate player data\n",
    "dfs = []\n",
    "for i in range(10):\n",
    "    csv_name = \"../data/game_data/game_\" + str(i + 1) + \"_data.csv\"\n",
    "    dfs.append(pd.read_csv(csv_name))"
   ]
  },
  {
   "cell_type": "code",
   "execution_count": 6,
   "metadata": {},
   "outputs": [],
   "source": [
    "# organize data by player and store into player data\n",
    "for i in range(1000):\n",
    "    player_dfs = []\n",
    "    for j in range(10):\n",
    "        # get data from dfs[i]\n",
    "        player_dfs.append(dfs[j].loc[dfs[j][\"student label\"] == i + 1])\n",
    "    new_df = pd.concat(player_dfs)\n",
    "    new_df = new_df.rename(columns={\n",
    "        \"game score\": \"score\",\n",
    "        \"game scheduled\": \"game_scheduled\",\n",
    "        \"percent training sessions attended\": \"percent_training_seshes\",\n",
    "        \"overall fitness score\": \"fitness_score\",\n",
    "        \"# extra strategy sessions attended\": \"extra_strategy_sessions_attended\",\n",
    "        \"hours of sleep the night before game\": \"hours_of_sleep\",\n",
    "        \"early bird/night owl\": \"early_late\",\n",
    "        \"previous competitive sports\": \"previous_sport\",\n",
    "        \"# meals on day prior to game\": \"meals\",\n",
    "        \"university year\": \"university_year\",\n",
    "    })\n",
    "    new_string = \"student_\" + str(i + 1) + \".csv\"\n",
    "    new_df.to_csv(\"../data/player_data/\" + new_string)\n"
   ]
  },
  {
   "cell_type": "code",
   "execution_count": 7,
   "metadata": {},
   "outputs": [
    {
     "name": "stdout",
     "output_type": "stream",
     "text": [
      "                            OLS Regression Results                            \n",
      "==============================================================================\n",
      "Dep. Variable:                  score   R-squared:                       0.926\n",
      "Model:                            OLS   Adj. R-squared:                  0.866\n",
      "Method:                 Least Squares   F-statistic:                     15.57\n",
      "Date:                Thu, 16 Mar 2023   Prob (F-statistic):            0.00499\n",
      "Time:                        22:55:39   Log-Likelihood:                -29.394\n",
      "No. Observations:                  10   AIC:                             68.79\n",
      "Df Residuals:                       5   BIC:                             70.30\n",
      "Df Model:                           4                                         \n",
      "Covariance Type:            nonrobust                                         \n",
      "====================================================================================================\n",
      "                                       coef    std err          t      P>|t|      [0.025      0.975]\n",
      "----------------------------------------------------------------------------------------------------\n",
      "Intercept                           -0.9398      1.234     -0.761      0.481      -4.112       2.233\n",
      "percent_training_seshes             51.2948     15.288      3.355      0.020      11.995      90.594\n",
      "fitness_score                       16.7702      7.179      2.336      0.067      -1.684      35.225\n",
      "extra_strategy_sessions_attended     4.4427      3.298      1.347      0.236      -4.035      12.921\n",
      "hours_of_sleep                      -4.1009      2.694     -1.522      0.189     -11.027       2.826\n",
      "meals                               -3.7592      4.937     -0.761      0.481     -16.449       8.931\n",
      "==============================================================================\n",
      "Omnibus:                        3.600   Durbin-Watson:                   2.574\n",
      "Prob(Omnibus):                  0.165   Jarque-Bera (JB):                0.943\n",
      "Skew:                           0.680   Prob(JB):                        0.624\n",
      "Kurtosis:                       3.642   Cond. No.                     3.60e+16\n",
      "==============================================================================\n",
      "\n",
      "Notes:\n",
      "[1] Standard Errors assume that the covariance matrix of the errors is correctly specified.\n",
      "[2] The smallest eigenvalue is 7.35e-31. This might indicate that there are\n",
      "strong multicollinearity problems or that the design matrix is singular.\n"
     ]
    },
    {
     "name": "stderr",
     "output_type": "stream",
     "text": [
      "/Users/kevvyang/opt/anaconda3/lib/python3.9/site-packages/scipy/stats/_stats_py.py:1769: UserWarning: kurtosistest only valid for n>=20 ... continuing anyway, n=10\n",
      "  warnings.warn(\"kurtosistest only valid for n>=20 ... continuing \"\n"
     ]
    }
   ],
   "source": [
    "from process import run_ols\n",
    "test = pd.read_csv(\"../data/player_data/student_1.csv\")\n",
    "formula = \"score ~ percent_training_seshes + fitness_score + extra_strategy_sessions_attended + hours_of_sleep + meals\"\n",
    "result = run_ols(formula, test)"
   ]
  },
  {
   "cell_type": "code",
   "execution_count": 8,
   "metadata": {},
   "outputs": [],
   "source": [
    "from sklearn.preprocessing import OneHotEncoder\n",
    "\n",
    "# create game_data_one_hot\n",
    "for i in range(10):\n",
    "    df = dfs[i]\n",
    "\n",
    "    # one-hot-encode\n",
    "    encoder = OneHotEncoder(handle_unknown='error')\n",
    "\n",
    "    #perform one-hot encoding on all qualitative variables\n",
    "    coast_df = pd.DataFrame(encoder.fit_transform(df[[\"coast\"]]).toarray())\n",
    "    coast_df.columns = encoder.get_feature_names()\n",
    "\n",
    "    game_scheduled_df = pd.DataFrame(encoder.fit_transform(df[[\"game scheduled\"]]).toarray())\n",
    "    game_scheduled_df.columns = encoder.get_feature_names()\n",
    "\n",
    "    sleep_schedule_df = pd.DataFrame(encoder.fit_transform(df[[\"early bird/night owl\"]]).toarray())\n",
    "    sleep_schedule_df.columns = encoder.get_feature_names()\n",
    "\n",
    "    year_df = pd.DataFrame(encoder.fit_transform(df[[\"university year\"]]).toarray())\n",
    "    year_df.columns = encoder.get_feature_names()\n",
    "\n",
    "    # merge all one-hot encodings back\n",
    "    new_df = df.join([coast_df, game_scheduled_df, sleep_schedule_df, year_df])\n",
    "    new_df = new_df.drop(columns=[\"coast\", \"game scheduled\", \"early bird/night owl\", \"university year\"])\n",
    "\n",
    "    # add to player_data_one_hot\n",
    "    new_string = \"game_\" + str(i + 1) + \"_data_one_hot.csv\"\n",
    "    new_df.to_csv(\"../data/game_data_one_hot/\" + new_string)"
   ]
  },
  {
   "cell_type": "code",
   "execution_count": 9,
   "metadata": {},
   "outputs": [],
   "source": [
    "dfs_one_hot = []\n",
    "for i in range(10):\n",
    "    csv_name = \"../data/game_data_one_hot/game_\" + str(i + 1) + \"_data_one_hot.csv\"\n",
    "    dfs_one_hot.append(pd.read_csv(csv_name))"
   ]
  },
  {
   "cell_type": "code",
   "execution_count": 10,
   "metadata": {},
   "outputs": [
    {
     "ename": "KeyboardInterrupt",
     "evalue": "",
     "output_type": "error",
     "traceback": [
      "\u001b[0;31m---------------------------------------------------------------------------\u001b[0m",
      "\u001b[0;31mKeyboardInterrupt\u001b[0m                         Traceback (most recent call last)",
      "\u001b[0;32m/var/folders/h3/v6p39mmn4snd_1b2tm2knxnw0000gn/T/ipykernel_35680/2611976699.py\u001b[0m in \u001b[0;36m<module>\u001b[0;34m\u001b[0m\n\u001b[1;32m      5\u001b[0m         \u001b[0;31m# get data from dfs[i]\u001b[0m\u001b[0;34m\u001b[0m\u001b[0;34m\u001b[0m\u001b[0m\n\u001b[1;32m      6\u001b[0m         \u001b[0mplayer_dfs\u001b[0m\u001b[0;34m.\u001b[0m\u001b[0mappend\u001b[0m\u001b[0;34m(\u001b[0m\u001b[0mdfs_one_hot\u001b[0m\u001b[0;34m[\u001b[0m\u001b[0mj\u001b[0m\u001b[0;34m]\u001b[0m\u001b[0;34m.\u001b[0m\u001b[0mloc\u001b[0m\u001b[0;34m[\u001b[0m\u001b[0mdfs_one_hot\u001b[0m\u001b[0;34m[\u001b[0m\u001b[0mj\u001b[0m\u001b[0;34m]\u001b[0m\u001b[0;34m[\u001b[0m\u001b[0;34m\"student label\"\u001b[0m\u001b[0;34m]\u001b[0m \u001b[0;34m==\u001b[0m \u001b[0mi\u001b[0m \u001b[0;34m+\u001b[0m \u001b[0;36m1\u001b[0m\u001b[0;34m]\u001b[0m\u001b[0;34m)\u001b[0m\u001b[0;34m\u001b[0m\u001b[0;34m\u001b[0m\u001b[0m\n\u001b[0;32m----> 7\u001b[0;31m     \u001b[0mnew_df\u001b[0m \u001b[0;34m=\u001b[0m \u001b[0mpd\u001b[0m\u001b[0;34m.\u001b[0m\u001b[0mconcat\u001b[0m\u001b[0;34m(\u001b[0m\u001b[0mplayer_dfs\u001b[0m\u001b[0;34m)\u001b[0m\u001b[0;34m\u001b[0m\u001b[0;34m\u001b[0m\u001b[0m\n\u001b[0m\u001b[1;32m      8\u001b[0m     new_df = new_df.rename(columns={\n\u001b[1;32m      9\u001b[0m         \u001b[0;34m\"game score\"\u001b[0m\u001b[0;34m:\u001b[0m \u001b[0;34m\"score\"\u001b[0m\u001b[0;34m,\u001b[0m\u001b[0;34m\u001b[0m\u001b[0;34m\u001b[0m\u001b[0m\n",
      "\u001b[0;32m~/opt/anaconda3/lib/python3.9/site-packages/pandas/util/_decorators.py\u001b[0m in \u001b[0;36mwrapper\u001b[0;34m(*args, **kwargs)\u001b[0m\n\u001b[1;32m    309\u001b[0m                     \u001b[0mstacklevel\u001b[0m\u001b[0;34m=\u001b[0m\u001b[0mstacklevel\u001b[0m\u001b[0;34m,\u001b[0m\u001b[0;34m\u001b[0m\u001b[0;34m\u001b[0m\u001b[0m\n\u001b[1;32m    310\u001b[0m                 )\n\u001b[0;32m--> 311\u001b[0;31m             \u001b[0;32mreturn\u001b[0m \u001b[0mfunc\u001b[0m\u001b[0;34m(\u001b[0m\u001b[0;34m*\u001b[0m\u001b[0margs\u001b[0m\u001b[0;34m,\u001b[0m \u001b[0;34m**\u001b[0m\u001b[0mkwargs\u001b[0m\u001b[0;34m)\u001b[0m\u001b[0;34m\u001b[0m\u001b[0;34m\u001b[0m\u001b[0m\n\u001b[0m\u001b[1;32m    312\u001b[0m \u001b[0;34m\u001b[0m\u001b[0m\n\u001b[1;32m    313\u001b[0m         \u001b[0;32mreturn\u001b[0m \u001b[0mwrapper\u001b[0m\u001b[0;34m\u001b[0m\u001b[0;34m\u001b[0m\u001b[0m\n",
      "\u001b[0;32m~/opt/anaconda3/lib/python3.9/site-packages/pandas/core/reshape/concat.py\u001b[0m in \u001b[0;36mconcat\u001b[0;34m(objs, axis, join, ignore_index, keys, levels, names, verify_integrity, sort, copy)\u001b[0m\n\u001b[1;32m    305\u001b[0m     )\n\u001b[1;32m    306\u001b[0m \u001b[0;34m\u001b[0m\u001b[0m\n\u001b[0;32m--> 307\u001b[0;31m     \u001b[0;32mreturn\u001b[0m \u001b[0mop\u001b[0m\u001b[0;34m.\u001b[0m\u001b[0mget_result\u001b[0m\u001b[0;34m(\u001b[0m\u001b[0;34m)\u001b[0m\u001b[0;34m\u001b[0m\u001b[0;34m\u001b[0m\u001b[0m\n\u001b[0m\u001b[1;32m    308\u001b[0m \u001b[0;34m\u001b[0m\u001b[0m\n\u001b[1;32m    309\u001b[0m \u001b[0;34m\u001b[0m\u001b[0m\n",
      "\u001b[0;32m~/opt/anaconda3/lib/python3.9/site-packages/pandas/core/reshape/concat.py\u001b[0m in \u001b[0;36mget_result\u001b[0;34m(self)\u001b[0m\n\u001b[1;32m    530\u001b[0m                 \u001b[0mmgrs_indexers\u001b[0m\u001b[0;34m.\u001b[0m\u001b[0mappend\u001b[0m\u001b[0;34m(\u001b[0m\u001b[0;34m(\u001b[0m\u001b[0mobj\u001b[0m\u001b[0;34m.\u001b[0m\u001b[0m_mgr\u001b[0m\u001b[0;34m,\u001b[0m \u001b[0mindexers\u001b[0m\u001b[0;34m)\u001b[0m\u001b[0;34m)\u001b[0m\u001b[0;34m\u001b[0m\u001b[0;34m\u001b[0m\u001b[0m\n\u001b[1;32m    531\u001b[0m \u001b[0;34m\u001b[0m\u001b[0m\n\u001b[0;32m--> 532\u001b[0;31m             new_data = concatenate_managers(\n\u001b[0m\u001b[1;32m    533\u001b[0m                 \u001b[0mmgrs_indexers\u001b[0m\u001b[0;34m,\u001b[0m \u001b[0mself\u001b[0m\u001b[0;34m.\u001b[0m\u001b[0mnew_axes\u001b[0m\u001b[0;34m,\u001b[0m \u001b[0mconcat_axis\u001b[0m\u001b[0;34m=\u001b[0m\u001b[0mself\u001b[0m\u001b[0;34m.\u001b[0m\u001b[0mbm_axis\u001b[0m\u001b[0;34m,\u001b[0m \u001b[0mcopy\u001b[0m\u001b[0;34m=\u001b[0m\u001b[0mself\u001b[0m\u001b[0;34m.\u001b[0m\u001b[0mcopy\u001b[0m\u001b[0;34m\u001b[0m\u001b[0;34m\u001b[0m\u001b[0m\n\u001b[1;32m    534\u001b[0m             )\n",
      "\u001b[0;32m~/opt/anaconda3/lib/python3.9/site-packages/pandas/core/internals/concat.py\u001b[0m in \u001b[0;36mconcatenate_managers\u001b[0;34m(mgrs_indexers, axes, concat_axis, copy)\u001b[0m\n\u001b[1;32m    207\u001b[0m                 \u001b[0mvalues\u001b[0m \u001b[0;34m=\u001b[0m \u001b[0mvalues\u001b[0m\u001b[0;34m.\u001b[0m\u001b[0mview\u001b[0m\u001b[0;34m(\u001b[0m\u001b[0;34m)\u001b[0m\u001b[0;34m\u001b[0m\u001b[0;34m\u001b[0m\u001b[0m\n\u001b[1;32m    208\u001b[0m             \u001b[0mfastpath\u001b[0m \u001b[0;34m=\u001b[0m \u001b[0;32mTrue\u001b[0m\u001b[0;34m\u001b[0m\u001b[0;34m\u001b[0m\u001b[0m\n\u001b[0;32m--> 209\u001b[0;31m         \u001b[0;32melif\u001b[0m \u001b[0m_is_uniform_join_units\u001b[0m\u001b[0;34m(\u001b[0m\u001b[0mjoin_units\u001b[0m\u001b[0;34m)\u001b[0m\u001b[0;34m:\u001b[0m\u001b[0;34m\u001b[0m\u001b[0;34m\u001b[0m\u001b[0m\n\u001b[0m\u001b[1;32m    210\u001b[0m             \u001b[0mvals\u001b[0m \u001b[0;34m=\u001b[0m \u001b[0;34m[\u001b[0m\u001b[0mju\u001b[0m\u001b[0;34m.\u001b[0m\u001b[0mblock\u001b[0m\u001b[0;34m.\u001b[0m\u001b[0mvalues\u001b[0m \u001b[0;32mfor\u001b[0m \u001b[0mju\u001b[0m \u001b[0;32min\u001b[0m \u001b[0mjoin_units\u001b[0m\u001b[0;34m]\u001b[0m\u001b[0;34m\u001b[0m\u001b[0;34m\u001b[0m\u001b[0m\n\u001b[1;32m    211\u001b[0m \u001b[0;34m\u001b[0m\u001b[0m\n",
      "\u001b[0;32m~/opt/anaconda3/lib/python3.9/site-packages/pandas/core/internals/concat.py\u001b[0m in \u001b[0;36m_is_uniform_join_units\u001b[0;34m(join_units)\u001b[0m\n\u001b[1;32m    605\u001b[0m         \u001b[0;31m# no blocks that would get missing values (can lead to type upcasts)\u001b[0m\u001b[0;34m\u001b[0m\u001b[0;34m\u001b[0m\u001b[0m\n\u001b[1;32m    606\u001b[0m         \u001b[0;31m# unless we're an extension dtype.\u001b[0m\u001b[0;34m\u001b[0m\u001b[0;34m\u001b[0m\u001b[0m\n\u001b[0;32m--> 607\u001b[0;31m         \u001b[0mall\u001b[0m\u001b[0;34m(\u001b[0m\u001b[0;32mnot\u001b[0m \u001b[0mju\u001b[0m\u001b[0;34m.\u001b[0m\u001b[0mis_na\u001b[0m \u001b[0;32mor\u001b[0m \u001b[0mju\u001b[0m\u001b[0;34m.\u001b[0m\u001b[0mblock\u001b[0m\u001b[0;34m.\u001b[0m\u001b[0mis_extension\u001b[0m \u001b[0;32mfor\u001b[0m \u001b[0mju\u001b[0m \u001b[0;32min\u001b[0m \u001b[0mjoin_units\u001b[0m\u001b[0;34m)\u001b[0m\u001b[0;34m\u001b[0m\u001b[0;34m\u001b[0m\u001b[0m\n\u001b[0m\u001b[1;32m    608\u001b[0m         \u001b[0;32mand\u001b[0m\u001b[0;34m\u001b[0m\u001b[0;34m\u001b[0m\u001b[0m\n\u001b[1;32m    609\u001b[0m         \u001b[0;31m# no blocks with indexers (as then the dimensions do not fit)\u001b[0m\u001b[0;34m\u001b[0m\u001b[0;34m\u001b[0m\u001b[0m\n",
      "\u001b[0;32m~/opt/anaconda3/lib/python3.9/site-packages/pandas/core/internals/concat.py\u001b[0m in \u001b[0;36m<genexpr>\u001b[0;34m(.0)\u001b[0m\n\u001b[1;32m    605\u001b[0m         \u001b[0;31m# no blocks that would get missing values (can lead to type upcasts)\u001b[0m\u001b[0;34m\u001b[0m\u001b[0;34m\u001b[0m\u001b[0m\n\u001b[1;32m    606\u001b[0m         \u001b[0;31m# unless we're an extension dtype.\u001b[0m\u001b[0;34m\u001b[0m\u001b[0;34m\u001b[0m\u001b[0m\n\u001b[0;32m--> 607\u001b[0;31m         \u001b[0mall\u001b[0m\u001b[0;34m(\u001b[0m\u001b[0;32mnot\u001b[0m \u001b[0mju\u001b[0m\u001b[0;34m.\u001b[0m\u001b[0mis_na\u001b[0m \u001b[0;32mor\u001b[0m \u001b[0mju\u001b[0m\u001b[0;34m.\u001b[0m\u001b[0mblock\u001b[0m\u001b[0;34m.\u001b[0m\u001b[0mis_extension\u001b[0m \u001b[0;32mfor\u001b[0m \u001b[0mju\u001b[0m \u001b[0;32min\u001b[0m \u001b[0mjoin_units\u001b[0m\u001b[0;34m)\u001b[0m\u001b[0;34m\u001b[0m\u001b[0;34m\u001b[0m\u001b[0m\n\u001b[0m\u001b[1;32m    608\u001b[0m         \u001b[0;32mand\u001b[0m\u001b[0;34m\u001b[0m\u001b[0;34m\u001b[0m\u001b[0m\n\u001b[1;32m    609\u001b[0m         \u001b[0;31m# no blocks with indexers (as then the dimensions do not fit)\u001b[0m\u001b[0;34m\u001b[0m\u001b[0;34m\u001b[0m\u001b[0m\n",
      "\u001b[0;32m~/opt/anaconda3/lib/python3.9/site-packages/pandas/_libs/properties.pyx\u001b[0m in \u001b[0;36mpandas._libs.properties.CachedProperty.__get__\u001b[0;34m()\u001b[0m\n",
      "\u001b[0;32m~/opt/anaconda3/lib/python3.9/site-packages/pandas/core/internals/concat.py\u001b[0m in \u001b[0;36mis_na\u001b[0;34m(self)\u001b[0m\n\u001b[1;32m    399\u001b[0m             \u001b[0mvalues_flat\u001b[0m \u001b[0;34m=\u001b[0m \u001b[0mvalues\u001b[0m\u001b[0;34m.\u001b[0m\u001b[0mravel\u001b[0m\u001b[0;34m(\u001b[0m\u001b[0morder\u001b[0m\u001b[0;34m=\u001b[0m\u001b[0;34m\"K\"\u001b[0m\u001b[0;34m)\u001b[0m\u001b[0;34m\u001b[0m\u001b[0;34m\u001b[0m\u001b[0m\n\u001b[1;32m    400\u001b[0m \u001b[0;34m\u001b[0m\u001b[0m\n\u001b[0;32m--> 401\u001b[0;31m         \u001b[0;32mreturn\u001b[0m \u001b[0misna_all\u001b[0m\u001b[0;34m(\u001b[0m\u001b[0mvalues_flat\u001b[0m\u001b[0;34m)\u001b[0m\u001b[0;34m\u001b[0m\u001b[0;34m\u001b[0m\u001b[0m\n\u001b[0m\u001b[1;32m    402\u001b[0m \u001b[0;34m\u001b[0m\u001b[0m\n\u001b[1;32m    403\u001b[0m     \u001b[0;32mdef\u001b[0m \u001b[0mget_reindexed_values\u001b[0m\u001b[0;34m(\u001b[0m\u001b[0mself\u001b[0m\u001b[0;34m,\u001b[0m \u001b[0mempty_dtype\u001b[0m\u001b[0;34m:\u001b[0m \u001b[0mDtypeObj\u001b[0m\u001b[0;34m,\u001b[0m \u001b[0mupcasted_na\u001b[0m\u001b[0;34m)\u001b[0m \u001b[0;34m->\u001b[0m \u001b[0mArrayLike\u001b[0m\u001b[0;34m:\u001b[0m\u001b[0;34m\u001b[0m\u001b[0;34m\u001b[0m\u001b[0m\n",
      "\u001b[0;32m~/opt/anaconda3/lib/python3.9/site-packages/pandas/core/dtypes/missing.py\u001b[0m in \u001b[0;36misna_all\u001b[0;34m(arr)\u001b[0m\n\u001b[1;32m    672\u001b[0m         )\n\u001b[1;32m    673\u001b[0m \u001b[0;34m\u001b[0m\u001b[0m\n\u001b[0;32m--> 674\u001b[0;31m     return all(\n\u001b[0m\u001b[1;32m    675\u001b[0m         \u001b[0;31m# error: Argument 1 to \"__call__\" of \"ufunc\" has incompatible type\u001b[0m\u001b[0;34m\u001b[0m\u001b[0;34m\u001b[0m\u001b[0m\n\u001b[1;32m    676\u001b[0m         \u001b[0;31m# \"Union[ExtensionArray, Any]\"; expected \"Union[Union[int, float, complex, str,\u001b[0m\u001b[0;34m\u001b[0m\u001b[0;34m\u001b[0m\u001b[0m\n",
      "\u001b[0;32m~/opt/anaconda3/lib/python3.9/site-packages/pandas/core/dtypes/missing.py\u001b[0m in \u001b[0;36m<genexpr>\u001b[0;34m(.0)\u001b[0m\n\u001b[1;32m    677\u001b[0m         \u001b[0;31m# bytes, generic], Sequence[Union[int, float, complex, str, bytes, generic]],\u001b[0m\u001b[0;34m\u001b[0m\u001b[0;34m\u001b[0m\u001b[0m\n\u001b[1;32m    678\u001b[0m         \u001b[0;31m# Sequence[Sequence[Any]], _SupportsArray]\"\u001b[0m\u001b[0;34m\u001b[0m\u001b[0;34m\u001b[0m\u001b[0m\n\u001b[0;32m--> 679\u001b[0;31m         \u001b[0mchecker\u001b[0m\u001b[0;34m(\u001b[0m\u001b[0marr\u001b[0m\u001b[0;34m[\u001b[0m\u001b[0mi\u001b[0m \u001b[0;34m:\u001b[0m \u001b[0mi\u001b[0m \u001b[0;34m+\u001b[0m \u001b[0mchunk_len\u001b[0m\u001b[0;34m]\u001b[0m\u001b[0;34m)\u001b[0m\u001b[0;34m.\u001b[0m\u001b[0mall\u001b[0m\u001b[0;34m(\u001b[0m\u001b[0;34m)\u001b[0m  \u001b[0;31m# type: ignore[arg-type]\u001b[0m\u001b[0;34m\u001b[0m\u001b[0;34m\u001b[0m\u001b[0m\n\u001b[0m\u001b[1;32m    680\u001b[0m         \u001b[0;32mfor\u001b[0m \u001b[0mi\u001b[0m \u001b[0;32min\u001b[0m \u001b[0mrange\u001b[0m\u001b[0;34m(\u001b[0m\u001b[0;36m0\u001b[0m\u001b[0;34m,\u001b[0m \u001b[0mtotal_len\u001b[0m\u001b[0;34m,\u001b[0m \u001b[0mchunk_len\u001b[0m\u001b[0;34m)\u001b[0m\u001b[0;34m\u001b[0m\u001b[0;34m\u001b[0m\u001b[0m\n\u001b[1;32m    681\u001b[0m     )\n",
      "\u001b[0;32m~/opt/anaconda3/lib/python3.9/site-packages/pandas/core/dtypes/missing.py\u001b[0m in \u001b[0;36m<lambda>\u001b[0;34m(x)\u001b[0m\n\u001b[1;32m    668\u001b[0m         \u001b[0;31m# error: Incompatible types in assignment (expression has type \"Callable[[Any],\u001b[0m\u001b[0;34m\u001b[0m\u001b[0;34m\u001b[0m\u001b[0m\n\u001b[1;32m    669\u001b[0m         \u001b[0;31m# Any]\", variable has type \"ufunc\")\u001b[0m\u001b[0;34m\u001b[0m\u001b[0;34m\u001b[0m\u001b[0m\n\u001b[0;32m--> 670\u001b[0;31m         checker = lambda x: _isna_array(  # type: ignore[assignment]\n\u001b[0m\u001b[1;32m    671\u001b[0m             \u001b[0mx\u001b[0m\u001b[0;34m,\u001b[0m \u001b[0minf_as_na\u001b[0m\u001b[0;34m=\u001b[0m\u001b[0mINF_AS_NA\u001b[0m\u001b[0;34m\u001b[0m\u001b[0;34m\u001b[0m\u001b[0m\n\u001b[1;32m    672\u001b[0m         )\n",
      "\u001b[0;32m~/opt/anaconda3/lib/python3.9/site-packages/pandas/core/dtypes/missing.py\u001b[0m in \u001b[0;36m_isna_array\u001b[0;34m(values, inf_as_na)\u001b[0m\n\u001b[1;32m    244\u001b[0m             \u001b[0mresult\u001b[0m \u001b[0;34m=\u001b[0m \u001b[0mvalues\u001b[0m\u001b[0;34m.\u001b[0m\u001b[0misna\u001b[0m\u001b[0;34m(\u001b[0m\u001b[0;34m)\u001b[0m\u001b[0;34m\u001b[0m\u001b[0;34m\u001b[0m\u001b[0m\n\u001b[1;32m    245\u001b[0m     \u001b[0;32melif\u001b[0m \u001b[0mis_string_dtype\u001b[0m\u001b[0;34m(\u001b[0m\u001b[0mdtype\u001b[0m\u001b[0;34m)\u001b[0m\u001b[0;34m:\u001b[0m\u001b[0;34m\u001b[0m\u001b[0;34m\u001b[0m\u001b[0m\n\u001b[0;32m--> 246\u001b[0;31m         \u001b[0mresult\u001b[0m \u001b[0;34m=\u001b[0m \u001b[0m_isna_string_dtype\u001b[0m\u001b[0;34m(\u001b[0m\u001b[0mvalues\u001b[0m\u001b[0;34m,\u001b[0m \u001b[0minf_as_na\u001b[0m\u001b[0;34m=\u001b[0m\u001b[0minf_as_na\u001b[0m\u001b[0;34m)\u001b[0m\u001b[0;34m\u001b[0m\u001b[0;34m\u001b[0m\u001b[0m\n\u001b[0m\u001b[1;32m    247\u001b[0m     \u001b[0;32melif\u001b[0m \u001b[0mneeds_i8_conversion\u001b[0m\u001b[0;34m(\u001b[0m\u001b[0mdtype\u001b[0m\u001b[0;34m)\u001b[0m\u001b[0;34m:\u001b[0m\u001b[0;34m\u001b[0m\u001b[0;34m\u001b[0m\u001b[0m\n\u001b[1;32m    248\u001b[0m         \u001b[0;31m# this is the NaT pattern\u001b[0m\u001b[0;34m\u001b[0m\u001b[0;34m\u001b[0m\u001b[0m\n",
      "\u001b[0;32m~/opt/anaconda3/lib/python3.9/site-packages/pandas/core/dtypes/missing.py\u001b[0m in \u001b[0;36m_isna_string_dtype\u001b[0;34m(values, inf_as_na)\u001b[0m\n\u001b[1;32m    269\u001b[0m             \u001b[0mvec\u001b[0m \u001b[0;34m=\u001b[0m \u001b[0mlibmissing\u001b[0m\u001b[0;34m.\u001b[0m\u001b[0misnaobj_old\u001b[0m\u001b[0;34m(\u001b[0m\u001b[0mvalues\u001b[0m\u001b[0;34m.\u001b[0m\u001b[0mravel\u001b[0m\u001b[0;34m(\u001b[0m\u001b[0;34m)\u001b[0m\u001b[0;34m)\u001b[0m\u001b[0;34m\u001b[0m\u001b[0;34m\u001b[0m\u001b[0m\n\u001b[1;32m    270\u001b[0m         \u001b[0;32melse\u001b[0m\u001b[0;34m:\u001b[0m\u001b[0;34m\u001b[0m\u001b[0;34m\u001b[0m\u001b[0m\n\u001b[0;32m--> 271\u001b[0;31m             \u001b[0mvec\u001b[0m \u001b[0;34m=\u001b[0m \u001b[0mlibmissing\u001b[0m\u001b[0;34m.\u001b[0m\u001b[0misnaobj\u001b[0m\u001b[0;34m(\u001b[0m\u001b[0mvalues\u001b[0m\u001b[0;34m.\u001b[0m\u001b[0mravel\u001b[0m\u001b[0;34m(\u001b[0m\u001b[0;34m)\u001b[0m\u001b[0;34m)\u001b[0m\u001b[0;34m\u001b[0m\u001b[0;34m\u001b[0m\u001b[0m\n\u001b[0m\u001b[1;32m    272\u001b[0m \u001b[0;34m\u001b[0m\u001b[0m\n\u001b[1;32m    273\u001b[0m         \u001b[0mresult\u001b[0m\u001b[0;34m[\u001b[0m\u001b[0;34m...\u001b[0m\u001b[0;34m]\u001b[0m \u001b[0;34m=\u001b[0m \u001b[0mvec\u001b[0m\u001b[0;34m.\u001b[0m\u001b[0mreshape\u001b[0m\u001b[0;34m(\u001b[0m\u001b[0mshape\u001b[0m\u001b[0;34m)\u001b[0m\u001b[0;34m\u001b[0m\u001b[0;34m\u001b[0m\u001b[0m\n",
      "\u001b[0;31mKeyboardInterrupt\u001b[0m: "
     ]
    }
   ],
   "source": [
    "# create player_data_one_hot\n",
    "for i in range(1000):\n",
    "    player_dfs = []\n",
    "    for j in range(10):\n",
    "        # get data from dfs[i]\n",
    "        player_dfs.append(dfs_one_hot[j].loc[dfs_one_hot[j][\"student label\"] == i + 1])\n",
    "    new_df = pd.concat(player_dfs)\n",
    "    new_df = new_df.rename(columns={\n",
    "        \"game score\": \"score\",\n",
    "        \"percent training sessions attended\": \"percent_training_seshes\",\n",
    "        \"overall fitness score\": \"fitness_score\",\n",
    "        \"# extra strategy sessions attended\": \"extra_strategy_sessions_attended\",\n",
    "        \"hours of sleep the night before game\": \"hours_of_sleep\",\n",
    "        \"previous competitive sports\": \"previous_sport\",\n",
    "        \"# meals on day prior to game\": \"meals\",\n",
    "        \"x0_east coast\": \"east_coast\",\n",
    "        \"x0_west coast\": \"west_coast\",\n",
    "        \"x0_evening\": \"evening\",\n",
    "        \"x0_morning\": \"morning\",\n",
    "        \"x0_noon\": \"noon\",\n",
    "        \"x0_early bird\": \"early_bird\",\n",
    "        \"x0_night owl\": \"night_owl\",\n",
    "        \"x0_frosh\": \"frosh\",\n",
    "        \"x0_junior\": \"junior\",\n",
    "        \"x0_senior\": \"senior\",\n",
    "        \"x0_sophomore\": \"soph\",\n",
    "    })\n",
    "\n",
    "    new_string = \"student_\" + str(i + 1) + \"_one_hot.csv\"\n",
    "    new_df.to_csv(\"../data/player_data_one_hot/\" + new_string)"
   ]
  },
  {
   "cell_type": "code",
   "execution_count": null,
   "metadata": {},
   "outputs": [],
   "source": [
    "# run linear regression on one_hot\n",
    "test = pd.read_csv(\"../data/player_data_one_hot/student_1_one_hot.csv\")\n",
    "formula = \"score ~ percent_training_seshes + fitness_score + extra_strategy_sessions_attended + hours_of_sleep + meals + east_coast + west_coast + evening + morning + noon + early_bird + night_owl + frosh + junior + senior + soph\"\n",
    "result = run_ols(formula, test)"
   ]
  },
  {
   "cell_type": "code",
   "execution_count": null,
   "metadata": {},
   "outputs": [],
   "source": [
    "singular_one_hot = pd.concat(dfs_one_hot)\n",
    "singular_one_hot = singular_one_hot.rename(columns={\n",
    "        \"game score\": \"score\",\n",
    "        \"game scheduled\": \"game_scheduled\",\n",
    "        \"percent training sessions attended\": \"percent_training_seshes\",\n",
    "        \"overall fitness score\": \"fitness_score\",\n",
    "        \"# extra strategy sessions attended\": \"extra_strategy_sessions_attended\",\n",
    "        \"hours of sleep the night before game\": \"hours_of_sleep\",\n",
    "        \"early bird/night owl\": \"early_late\",\n",
    "        \"previous competitive sports\": \"previous_sport\",\n",
    "        \"# meals on day prior to game\": \"meals\",\n",
    "        \"university year\": \"university_year\",\n",
    "        \"x0_east coast\": \"east_coast\",\n",
    "        \"x0_west coast\": \"west_coast\",\n",
    "        \"x0_early bird\": \"early_bird\",\n",
    "        \"x0_night owl\": \"night_owl\",\n",
    "        \"x0_frosh\": \"frosh\",\n",
    "        \"x0_junior\": \"junior\",\n",
    "        \"x0_senior\": \"senior\",\n",
    "        \"x0_sophomore\": \"soph\",\n",
    "    })\n",
    "singular_one_hot.to_csv(\"../data/singular_one_hot.csv\")\n"
   ]
  },
  {
   "cell_type": "code",
   "execution_count": null,
   "metadata": {},
   "outputs": [],
   "source": []
  },
  {
   "cell_type": "code",
   "execution_count": null,
   "metadata": {},
   "outputs": [
    {
     "name": "stdout",
     "output_type": "stream",
     "text": [
      "                            OLS Regression Results                            \n",
      "==============================================================================\n",
      "Dep. Variable:                  score   R-squared:                       0.667\n",
      "Model:                            OLS   Adj. R-squared:                  0.666\n",
      "Method:                 Least Squares   F-statistic:                     833.1\n",
      "Date:                Wed, 15 Mar 2023   Prob (F-statistic):               0.00\n",
      "Time:                        21:17:59   Log-Likelihood:                -19398.\n",
      "No. Observations:                5000   AIC:                         3.882e+04\n",
      "Df Residuals:                    4987   BIC:                         3.891e+04\n",
      "Df Model:                          12                                         \n",
      "Covariance Type:            nonrobust                                         \n",
      "====================================================================================================\n",
      "                                       coef    std err          t      P>|t|      [0.025      0.975]\n",
      "----------------------------------------------------------------------------------------------------\n",
      "Intercept                        -8.341e+12   5.14e+12     -1.623      0.105   -1.84e+13    1.74e+12\n",
      "percent_training_seshes             27.4598      0.537     51.136      0.000      26.407      28.513\n",
      "fitness_score                       25.6914      0.502     51.221      0.000      24.708      26.675\n",
      "extra_strategy_sessions_attended     1.4765      0.064     22.907      0.000       1.350       1.603\n",
      "hours_of_sleep                       0.3086      0.050      6.151      0.000       0.210       0.407\n",
      "meals                               -1.4106      0.136    -10.379      0.000      -1.677      -1.144\n",
      "east_coast                        2.591e+12    1.6e+12      1.623      0.105    -5.4e+11    5.72e+12\n",
      "west_coast                        2.591e+12    1.6e+12      1.623      0.105    -5.4e+11    5.72e+12\n",
      "x0_evening                        6.984e+11    4.3e+11      1.623      0.105   -1.45e+11    1.54e+12\n",
      "x0_morning                        6.984e+11    4.3e+11      1.623      0.105   -1.45e+11    1.54e+12\n",
      "x0_noon                           6.984e+11    4.3e+11      1.623      0.105   -1.45e+11    1.54e+12\n",
      "early_bird                        6.535e+12   4.03e+12      1.623      0.105   -1.36e+12    1.44e+13\n",
      "night_owl                         6.535e+12   4.03e+12      1.623      0.105   -1.36e+12    1.44e+13\n",
      "x0_frosh                         -1.485e+12   9.15e+11     -1.623      0.105   -3.28e+12    3.09e+11\n",
      "x0_junior                        -1.485e+12   9.15e+11     -1.623      0.105   -3.28e+12    3.09e+11\n",
      "x0_senior                        -1.485e+12   9.15e+11     -1.623      0.105   -3.28e+12    3.09e+11\n",
      "soph                             -1.485e+12   9.15e+11     -1.623      0.105   -3.28e+12    3.09e+11\n",
      "==============================================================================\n",
      "Omnibus:                     1077.407   Durbin-Watson:                   1.474\n",
      "Prob(Omnibus):                  0.000   Jarque-Bera (JB):             6650.136\n",
      "Skew:                           0.884   Prob(JB):                         0.00\n",
      "Kurtosis:                       8.366   Cond. No.                     8.54e+16\n",
      "==============================================================================\n",
      "\n",
      "Notes:\n",
      "[1] Standard Errors assume that the covariance matrix of the errors is correctly specified.\n",
      "[2] The smallest eigenvalue is 6.31e-29. This might indicate that there are\n",
      "strong multicollinearity problems or that the design matrix is singular.\n"
     ]
    }
   ],
   "source": [
    "formula = \"score ~ percent_training_seshes + fitness_score + extra_strategy_sessions_attended + hours_of_sleep + meals + east_coast + west_coast + x0_evening + x0_morning + x0_noon + early_bird + night_owl + x0_frosh + x0_junior + x0_senior + soph\"\n",
    "result = run_ols(formula, singular_one_hot)"
   ]
  },
  {
   "cell_type": "code",
   "execution_count": null,
   "metadata": {},
   "outputs": [
    {
     "name": "stdout",
     "output_type": "stream",
     "text": [
      "                            OLS Regression Results                            \n",
      "==============================================================================\n",
      "Dep. Variable:                  score   R-squared:                       0.643\n",
      "Model:                            OLS   Adj. R-squared:                  0.643\n",
      "Method:                 Least Squares   F-statistic:                     3605.\n",
      "Date:                Wed, 15 Mar 2023   Prob (F-statistic):               0.00\n",
      "Time:                        20:51:01   Log-Likelihood:                -39127.\n",
      "No. Observations:               10000   AIC:                         7.827e+04\n",
      "Df Residuals:                    9994   BIC:                         7.831e+04\n",
      "Df Model:                           5                                         \n",
      "Covariance Type:            nonrobust                                         \n",
      "====================================================================================================\n",
      "                                       coef    std err          t      P>|t|      [0.025      0.975]\n",
      "----------------------------------------------------------------------------------------------------\n",
      "Intercept                            7.4221      0.473     15.688      0.000       6.495       8.349\n",
      "percent_training_seshes             27.2840      0.334     81.749      0.000      26.630      27.938\n",
      "fitness_score                       24.5029      0.319     76.777      0.000      23.877      25.128\n",
      "extra_strategy_sessions_attended     1.3922      0.043     32.364      0.000       1.308       1.477\n",
      "hours_of_sleep                       0.3051      0.034      8.900      0.000       0.238       0.372\n",
      "meals                               -1.2870      0.090    -14.273      0.000      -1.464      -1.110\n",
      "==============================================================================\n",
      "Omnibus:                     1384.591   Durbin-Watson:                   1.485\n",
      "Prob(Omnibus):                  0.000   Jarque-Bera (JB):             5455.306\n",
      "Skew:                           0.650   Prob(JB):                         0.00\n",
      "Kurtosis:                       6.377   Cond. No.                         38.8\n",
      "==============================================================================\n",
      "\n",
      "Notes:\n",
      "[1] Standard Errors assume that the covariance matrix of the errors is correctly specified.\n"
     ]
    }
   ],
   "source": [
    "singular_one_hot = pd.read_csv(\"../data/singular_one_hot.csv\")\n",
    "formula = \"score ~ percent_training_seshes + fitness_score + extra_strategy_sessions_attended + hours_of_sleep + meals\"\n",
    "result = run_ols(formula, singular_one_hot)"
   ]
  }
 ],
 "metadata": {
  "kernelspec": {
   "display_name": "Python 3.9.7 ('base')",
   "language": "python",
   "name": "python3"
  },
  "language_info": {
   "codemirror_mode": {
    "name": "ipython",
    "version": 3
   },
   "file_extension": ".py",
   "mimetype": "text/x-python",
   "name": "python",
   "nbconvert_exporter": "python",
   "pygments_lexer": "ipython3",
   "version": "3.9.7"
  },
  "orig_nbformat": 4,
  "vscode": {
   "interpreter": {
    "hash": "31fbef9df90861d1958267d2117435dfa788463010f21c14a474ff8f22582477"
   }
  }
 },
 "nbformat": 4,
 "nbformat_minor": 2
}
