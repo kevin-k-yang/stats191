{
 "cells": [
  {
   "cell_type": "code",
   "execution_count": 26,
   "metadata": {},
   "outputs": [],
   "source": [
    "import pandas as pd\n",
    "# generate player data\n",
    "dfs = []\n",
    "for i in range(10):\n",
    "    csv_name = \"../data/game_\" + str(i + 1) + \"_data.csv\"\n",
    "    dfs.append(pd.read_csv(csv_name))"
   ]
  },
  {
   "cell_type": "code",
   "execution_count": 27,
   "metadata": {},
   "outputs": [],
   "source": [
    "# organize data by player and store into player data\n",
    "for i in range(1000):\n",
    "    player_dfs = []\n",
    "    for j in range(10):\n",
    "        # get data from dfs[i]\n",
    "        player_dfs.append(dfs[j].loc[dfs[j][\"student label\"] == i + 1])\n",
    "    new_df = pd.concat(player_dfs)\n",
    "    new_df = new_df.rename(columns={\n",
    "        \"game score\": \"score\",\n",
    "        \"percent training sessions attended\": \"percent_training_seshes\",\n",
    "        \"overall fitness score\": \"fitness_score\",\n",
    "        \"# extra strategy sessions attended\": \"extra_strategy_sessions_attended\",\n",
    "        \"hours of sleep the night before game\": \"hours_of_sleep\",\n",
    "        \"# meals on day prior to game\": \"meals\",\n",
    "    })\n",
    "    new_string = \"student_\" + str(i + 1) + \".csv\"\n",
    "    new_df.to_csv(\"../data/player_data/\" + new_string)\n"
   ]
  },
  {
   "cell_type": "code",
   "execution_count": 29,
   "metadata": {},
   "outputs": [
    {
     "name": "stdout",
     "output_type": "stream",
     "text": [
      "                            OLS Regression Results                            \n",
      "==============================================================================\n",
      "Dep. Variable:                  score   R-squared:                       0.926\n",
      "Model:                            OLS   Adj. R-squared:                  0.866\n",
      "Method:                 Least Squares   F-statistic:                     15.57\n",
      "Date:                Mon, 13 Mar 2023   Prob (F-statistic):            0.00499\n",
      "Time:                        19:47:48   Log-Likelihood:                -29.394\n",
      "No. Observations:                  10   AIC:                             68.79\n",
      "Df Residuals:                       5   BIC:                             70.30\n",
      "Df Model:                           4                                         \n",
      "Covariance Type:            nonrobust                                         \n",
      "====================================================================================================\n",
      "                                       coef    std err          t      P>|t|      [0.025      0.975]\n",
      "----------------------------------------------------------------------------------------------------\n",
      "Intercept                           -0.9398      1.234     -0.761      0.481      -4.112       2.233\n",
      "percent_training_seshes             51.2948     15.288      3.355      0.020      11.995      90.594\n",
      "fitness_score                       16.7702      7.179      2.336      0.067      -1.684      35.225\n",
      "extra_strategy_sessions_attended     4.4427      3.298      1.347      0.236      -4.035      12.921\n",
      "hours_of_sleep                      -4.1009      2.694     -1.522      0.189     -11.027       2.826\n",
      "meals                               -3.7592      4.937     -0.761      0.481     -16.449       8.931\n",
      "==============================================================================\n",
      "Omnibus:                        3.600   Durbin-Watson:                   2.574\n",
      "Prob(Omnibus):                  0.165   Jarque-Bera (JB):                0.943\n",
      "Skew:                           0.680   Prob(JB):                        0.624\n",
      "Kurtosis:                       3.642   Cond. No.                     3.60e+16\n",
      "==============================================================================\n",
      "\n",
      "Notes:\n",
      "[1] Standard Errors assume that the covariance matrix of the errors is correctly specified.\n",
      "[2] The smallest eigenvalue is 7.35e-31. This might indicate that there are\n",
      "strong multicollinearity problems or that the design matrix is singular.\n"
     ]
    },
    {
     "name": "stderr",
     "output_type": "stream",
     "text": [
      "/Users/kevvyang/opt/anaconda3/lib/python3.9/site-packages/scipy/stats/_stats_py.py:1769: UserWarning: kurtosistest only valid for n>=20 ... continuing anyway, n=10\n",
      "  warnings.warn(\"kurtosistest only valid for n>=20 ... continuing \"\n"
     ]
    }
   ],
   "source": [
    "from process import run_ols\n",
    "test = pd.read_csv(\"../data/player_data/student_1.csv\")\n",
    "formula = \"score ~ percent_training_seshes + fitness_score + extra_strategy_sessions_attended + hours_of_sleep + meals\"\n",
    "result = run_ols(formula, test)"
   ]
  },
  {
   "cell_type": "code",
   "execution_count": 22,
   "metadata": {},
   "outputs": [
    {
     "data": {
      "text/plain": [
       "Index(['Unnamed: 0', 'student label', 'game score', 'coast', 'game scheduled',\n",
       "       'percent training sessions attended', 'overall fitness score',\n",
       "       'extra strategy sessions attended',\n",
       "       'hours of sleep the night before game', 'early bird/night owl',\n",
       "       'previous competitive sports', 'meals on day prior to game',\n",
       "       'university year'],\n",
       "      dtype='object')"
      ]
     },
     "execution_count": 22,
     "metadata": {},
     "output_type": "execute_result"
    }
   ],
   "source": []
  }
 ],
 "metadata": {
  "kernelspec": {
   "display_name": "Python 3.9.7 ('base')",
   "language": "python",
   "name": "python3"
  },
  "language_info": {
   "codemirror_mode": {
    "name": "ipython",
    "version": 3
   },
   "file_extension": ".py",
   "mimetype": "text/x-python",
   "name": "python",
   "nbconvert_exporter": "python",
   "pygments_lexer": "ipython3",
   "version": "3.9.7"
  },
  "orig_nbformat": 4,
  "vscode": {
   "interpreter": {
    "hash": "31fbef9df90861d1958267d2117435dfa788463010f21c14a474ff8f22582477"
   }
  }
 },
 "nbformat": 4,
 "nbformat_minor": 2
}
