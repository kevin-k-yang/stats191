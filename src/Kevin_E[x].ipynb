{
 "cells": [
  {
   "cell_type": "code",
   "execution_count": 41,
   "metadata": {},
   "outputs": [],
   "source": [
    "import pandas as pd\n",
    "from process import run_ols\n",
    "from sklearn.preprocessing import OneHotEncoder\n",
    "import numpy as np\n",
    "from scipy.stats import norm\n",
    "from MLE import MLE\n",
    "\n"
   ]
  },
  {
   "cell_type": "code",
   "execution_count": 12,
   "metadata": {},
   "outputs": [],
   "source": [
    "players = [] # array of dataframes where players[i] is the i+1th player's data\n",
    "for i in range(1000):\n",
    "    file = \"../data/player_data/student_\" + str(i + 1) + \".csv\"\n",
    "    players.append(pd.read_csv(file))"
   ]
  },
  {
   "cell_type": "code",
   "execution_count": 22,
   "metadata": {},
   "outputs": [
    {
     "data": {
      "text/plain": [
       "array([[ 0.        ,  0.        ,  0.        , ...,  0.        ,\n",
       "         0.        ,  0.        ],\n",
       "       [37.39222222, 32.23      , 26.13666667, ..., 63.653     ,\n",
       "        32.783     , 49.634     ],\n",
       "       [37.76      , 35.76      ,  0.        , ...,  0.        ,\n",
       "         0.        ,  0.        ]])"
      ]
     },
     "execution_count": 22,
     "metadata": {},
     "output_type": "execute_result"
    }
   ],
   "source": [
    "total_score = np.zeros((3, 1000))\n",
    "num_score = np.zeros((3, 1000))\n",
    "\n",
    "for i in range(1000):\n",
    "    player = players[i]\n",
    "    for _, row in player.iterrows():\n",
    "        if row[\"game_scheduled\"] == \"morning\":\n",
    "            total_score[0][i] += row[\"score\"]\n",
    "            num_score[0][i] += 1\n",
    "        elif row[\"game_scheduled\"] == \"noon\":\n",
    "            total_score[1][i] += row[\"score\"]\n",
    "            num_score[1][i] += 1\n",
    "        elif row[\"game_scheduled\"] == \"evening\":\n",
    "            total_score[2][i] += row[\"score\"]\n",
    "            num_score[2][i] += 1\n",
    "\n",
    "avg_score = np.divide(total_score, num_score, out=np.zeros_like(total_score), where=num_score!=0)"
   ]
  },
  {
   "cell_type": "code",
   "execution_count": 29,
   "metadata": {},
   "outputs": [],
   "source": [
    "# avg_score[0] = \"m\", avg_score[1] = \"n\", avg_score[2] = \"e\"\n",
    "expected_score = np.sum(avg_score, axis=0) / 3"
   ]
  },
  {
   "cell_type": "code",
   "execution_count": 44,
   "metadata": {},
   "outputs": [
    {
     "data": {
      "text/plain": [
       "0.9877755273449553"
      ]
     },
     "execution_count": 44,
     "metadata": {},
     "output_type": "execute_result"
    }
   ],
   "source": [
    "# determine f(x, y)\n",
    "mle = MLE(\"../data/previous_season_results.csv\")\n",
    "print(mle.calculate_MLE())\n",
    "sigma = 2 # obtain from MLE\n",
    "def winProb(score_1, score_2):\n",
    "    return 1 - norm(loc = score_1 - score_2 , scale = sigma).cdf(0)"
   ]
  },
  {
   "cell_type": "code",
   "execution_count": 40,
   "metadata": {},
   "outputs": [
    {
     "name": "stdout",
     "output_type": "stream",
     "text": [
      "these are our top athletes: [268 725 790  89 138 791 631 785 521 129]\n"
     ]
    },
    {
     "data": {
      "text/plain": [
       "75.33198809523809"
      ]
     },
     "execution_count": 40,
     "metadata": {},
     "output_type": "execute_result"
    }
   ],
   "source": [
    "# to maximize E[win], we should choose the 10 highest players\n",
    "top_athletes = np.argpartition(expected_score, -10)[-10:] + 1\n",
    "print(\"these are our top athletes:\", top_athletes)\n",
    "\n",
    "# team score\n",
    "top_scores = expected_score[top_athletes - 1]\n",
    "top_team_score = np.average(top_scores)\n",
    "print(\"our team score is: \", top_team_score)\n",
    "# >>> a = np.array([9, 4, 4, 3, 3, 9, 0, 4, 6, 0])\n",
    "# >>> a\n",
    "# array([9, 4, 4, 3, 3, 9, 0, 4, 6, 0])\n",
    "\n",
    "# >>> ind = np.argpartition(a, -4)[-4:]\n",
    "# >>> ind\n",
    "# array([1, 5, 8, 0])\n",
    "\n",
    "# >>> top4 = a[ind]\n",
    "# >>> top4\n",
    "# array([4, 9, 6, 9])"
   ]
  },
  {
   "cell_type": "code",
   "execution_count": null,
   "metadata": {},
   "outputs": [],
   "source": []
  }
 ],
 "metadata": {
  "kernelspec": {
   "display_name": "Python 3.9.7 ('base')",
   "language": "python",
   "name": "python3"
  },
  "language_info": {
   "codemirror_mode": {
    "name": "ipython",
    "version": 3
   },
   "file_extension": ".py",
   "mimetype": "text/x-python",
   "name": "python",
   "nbconvert_exporter": "python",
   "pygments_lexer": "ipython3",
   "version": "3.9.7"
  },
  "orig_nbformat": 4,
  "vscode": {
   "interpreter": {
    "hash": "31fbef9df90861d1958267d2117435dfa788463010f21c14a474ff8f22582477"
   }
  }
 },
 "nbformat": 4,
 "nbformat_minor": 2
}
