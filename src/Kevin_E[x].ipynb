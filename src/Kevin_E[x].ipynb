{
 "cells": [
  {
   "cell_type": "code",
   "execution_count": 1,
   "metadata": {},
   "outputs": [],
   "source": [
    "import pandas as pd\n",
    "from process import run_ols\n",
    "from sklearn.preprocessing import OneHotEncoder\n",
    "import numpy as np\n",
    "from scipy.stats import norm\n",
    "from MLE import MLE\n",
    "\n"
   ]
  },
  {
   "cell_type": "code",
   "execution_count": 2,
   "metadata": {},
   "outputs": [],
   "source": [
    "players = [] # array of dataframes where players[i] is the i+1th player's data\n",
    "for i in range(1000):\n",
    "    file = \"../data/player_data/student_\" + str(i + 1) + \".csv\"\n",
    "    players.append(pd.read_csv(file))"
   ]
  },
  {
   "cell_type": "code",
   "execution_count": 3,
   "metadata": {},
   "outputs": [],
   "source": [
    "total_score = np.zeros((3, 1000))\n",
    "num_score = np.zeros((3, 1000))\n",
    "\n",
    "for i in range(1000):\n",
    "    player = players[i]\n",
    "    for _, row in player.iterrows():\n",
    "        if row[\"game_scheduled\"] == \"morning\":\n",
    "            total_score[0][i] += row[\"score\"]\n",
    "            num_score[0][i] += 1\n",
    "        elif row[\"game_scheduled\"] == \"noon\":\n",
    "            total_score[1][i] += row[\"score\"]\n",
    "            num_score[1][i] += 1\n",
    "        elif row[\"game_scheduled\"] == \"evening\":\n",
    "            total_score[2][i] += row[\"score\"]\n",
    "            num_score[2][i] += 1\n",
    "\n",
    "avg_score = np.divide(total_score, num_score, out=np.zeros_like(total_score), where=num_score!=0)"
   ]
  },
  {
   "cell_type": "code",
   "execution_count": 4,
   "metadata": {},
   "outputs": [],
   "source": [
    "# avg_score[0] = \"m\", avg_score[1] = \"n\", avg_score[2] = \"e\"\n",
    "expected_score = np.sum(avg_score, axis=0) / 3"
   ]
  },
  {
   "cell_type": "code",
   "execution_count": 5,
   "metadata": {},
   "outputs": [
    {
     "name": "stdout",
     "output_type": "stream",
     "text": [
      "10.828673870065314\n"
     ]
    }
   ],
   "source": [
    "# determine f(x, y)\n",
    "mle = MLE(\"../data/previous_season_results.csv\")\n",
    "sigma = mle.calculate_MLE() # obtain from MLE\n",
    "print(sigma)\n",
    "def winProb(score_1, score_2):\n",
    "    return 1 - norm(loc = score_1 - score_2 , scale = sigma).cdf(0)"
   ]
  },
  {
   "cell_type": "code",
   "execution_count": 18,
   "metadata": {},
   "outputs": [
    {
     "name": "stdout",
     "output_type": "stream",
     "text": [
      "these are our top athletes: [268 725 790  89 138 791 631 785 521 129]\n",
      "our team score is:  75.33198809523809\n",
      "Expected number of wins:  11.375058670272534\n"
     ]
    }
   ],
   "source": [
    "# to maximize E[win], we should choose the 10 highest players\n",
    "top_athletes = np.argpartition(expected_score, -10)[-10:] + 1\n",
    "print(\"these are our top athletes:\", top_athletes)\n",
    "\n",
    "# team score\n",
    "top_scores = expected_score[top_athletes - 1]\n",
    "top_team_score = np.average(top_scores)\n",
    "print(\"our team score is: \", top_team_score)\n",
    "\n",
    "# expected number of wins\n",
    "matchup = pd.read_csv(\"../data/season_match_up.csv\")\n",
    "matchup = matchup.to_numpy()[0, 1:] # 20 games\n",
    "E_win = np.sum([winProb(top_team_score, matchup_score) for matchup_score in matchup])\n",
    "print(\"Expected number of wins: \", E_win)"
   ]
  },
  {
   "cell_type": "code",
   "execution_count": null,
   "metadata": {},
   "outputs": [],
   "source": []
  }
 ],
 "metadata": {
  "kernelspec": {
   "display_name": "Python 3.9.7 ('base')",
   "language": "python",
   "name": "python3"
  },
  "language_info": {
   "codemirror_mode": {
    "name": "ipython",
    "version": 3
   },
   "file_extension": ".py",
   "mimetype": "text/x-python",
   "name": "python",
   "nbconvert_exporter": "python",
   "pygments_lexer": "ipython3",
   "version": "3.9.7"
  },
  "orig_nbformat": 4,
  "vscode": {
   "interpreter": {
    "hash": "31fbef9df90861d1958267d2117435dfa788463010f21c14a474ff8f22582477"
   }
  }
 },
 "nbformat": 4,
 "nbformat_minor": 2
}
