{
 "cells": [
  {
   "cell_type": "code",
   "execution_count": 98,
   "metadata": {},
   "outputs": [],
   "source": [
    "import pandas as pd\n",
    "from process import run_ols\n",
    "from sklearn.preprocessing import OneHotEncoder\n",
    "import numpy as np\n",
    "from scipy.stats import norm\n",
    "from MLE import MLE\n",
    "from process import run_ols"
   ]
  },
  {
   "cell_type": "code",
   "execution_count": 99,
   "metadata": {},
   "outputs": [],
   "source": [
    "players = [] # array of dataframes where players[i] is the i+1th player's data\n",
    "for i in range(1000):\n",
    "    file = \"../data/player_data_one_hot/student_\" + str(i + 1) + \"_one_hot.csv\"\n",
    "    players.append(pd.read_csv(file))\n",
    "# maybe find trend between all player's m, n, e, find which covariates affect this sport and\n",
    "# make a model given expected score and covariates, obtain m, n, and e?"
   ]
  },
  {
   "cell_type": "code",
   "execution_count": 100,
   "metadata": {},
   "outputs": [
    {
     "name": "stdout",
     "output_type": "stream",
     "text": [
      "[[83341.58415842 83341.58415842 83341.58415842   171.23358386     2.76511051     3.23776828    24.00440044    15.71962196    -0.50605061            nan    50.4050405     -2.45524552    -2.42524252     4.88048805     5.3130313     -5.3130313     -5.51210121     1.90189019     4.97344734    -1.36323632]\n",
      " [83341.58415842 83341.58415842 83341.58415842   171.23358386     2.76511051     3.23776828    24.00440044    15.71962196    -0.50605061            nan    50.4050405     -2.45524552    -2.42524252     4.88048805     5.3130313     -5.3130313     -5.51210121     1.90189019     4.97344734    -1.36323632]\n",
      " [83341.58415842 83341.58415842 83341.58415842   171.23358386     2.76511051     3.23776828    24.00440044    15.71962196    -0.50605061            nan    50.4050405     -2.45524552    -2.42524252     4.88048805     5.3130313     -5.3130313     -5.51210121     1.90189019     4.97344734    -1.36323632]\n",
      " [  171.23358386   171.23358386   171.23358386   410.95126972     4.74025896     4.06617735    21.52669934    16.64659882    -0.27149404            nan     0.20771403     1.04115101     0.04430549    -1.0854565     -0.19600459     0.19600459    -1.09438009     0.46070031     1.50794233    -0.87426255]\n",
      " [    2.76511051     2.76511051     2.76511051     4.74025896     0.14806745     0.01458689     0.29763757     0.14975931     0.09098197            nan     0.0003716      0.00286937     0.00111837    -0.00398773    -0.00100293     0.00100293    -0.01002971     0.0054173      0.01778108    -0.01316867]\n",
      " [    3.23776828     3.23776828     3.23776828     4.06617735     0.01458689     0.14807438    -0.01247595     0.17486053    -0.00307773            nan     0.0031823      0.0007302      0.00136199    -0.0020922      0.00000075    -0.00000075    -0.02656414     0.01365045     0.0321025     -0.01918882]\n",
      " [   24.00440044    24.00440044    24.00440044    21.52669934     0.29763757    -0.01247595     9.08448029     2.82686077    -0.15686289            nan    -0.00085609    -0.01364456     0.0070303      0.00661426     0.04668307    -0.04668307    -0.04298334     0.01256046     0.05826007    -0.02783718]\n",
      " [   15.71962196    15.71962196    15.71962196    16.64659882     0.14975931     0.17486053     2.82686077    13.5958823     -0.14956136            nan     0.01837984     0.01216532     0.01058376    -0.02274907     0.02269057    -0.02269057    -0.19678291     0.01167907     0.27726086    -0.09215702]\n",
      " [   -0.50605061    -0.50605061    -0.50605061    -0.27149404     0.09098197    -0.00307773    -0.15686289    -0.14956136     1.8759636             nan     0.009981      -0.00614461    -0.00216822     0.00831283    -0.01327333     0.01327333     0.11783498    -0.0530413     -0.11515072     0.05035704]\n",
      " [           nan            nan            nan            nan            nan            nan            nan            nan            nan            nan            nan            nan            nan            nan            nan            nan            nan            nan            nan            nan]\n",
      " [   50.4050405     50.4050405     50.4050405      0.20771403     0.0003716      0.0031823     -0.00085609     0.01837984     0.009981              nan     0.12041204    -0.00362036    -0.00114011     0.00476048     0.00444044    -0.00444044    -0.00281428     0.00172017     0.00283428    -0.00174017]\n",
      " [   -2.45524552    -2.45524552    -2.45524552     1.04115101     0.00286937     0.0007302     -0.01364456     0.01216532    -0.00614461            nan    -0.00362036     0.16992799    -0.02148515    -0.14844284    -0.00030703     0.00030703     0.00168687     0.00290929    -0.00105781    -0.00353835]\n",
      " [   -2.42524252    -2.42524252    -2.42524252     0.04430549     0.00111837     0.00136199     0.0070303      0.01058376    -0.00216822            nan    -0.00114011    -0.02148515     0.08920792    -0.06772277     0.00077108    -0.00077108    -0.00043514     0.00142314    -0.00050195    -0.00048605]\n",
      " [    4.88048805     4.88048805     4.88048805    -1.0854565     -0.00398773    -0.0020922      0.00661426    -0.02274907     0.00831283            nan     0.00476048    -0.14844284    -0.06772277     0.21616562    -0.00046405     0.00046405    -0.00125173    -0.00433243     0.00155976     0.0040244 ]\n",
      " [    5.3130313      5.3130313      5.3130313     -0.19600459    -0.00100293     0.00000075     0.04668307     0.02269057    -0.01327333            nan     0.00444044    -0.00030703     0.00077108    -0.00046405     0.14177318    -0.14177318     0.00031213    -0.00143314     0.00951585    -0.00839484]\n",
      " [   -5.3130313     -5.3130313     -5.3130313      0.19600459     0.00100293    -0.00000075    -0.04668307    -0.02269057     0.01327333            nan    -0.00444044     0.00030703    -0.00077108     0.00046405    -0.14177318     0.14177318    -0.00031213     0.00143314    -0.00951585     0.00839484]\n",
      " [   -5.51210121    -5.51210121    -5.51210121    -1.09438009    -0.01002971    -0.02656414    -0.04298334    -0.19678291     0.11783498            nan    -0.00281428     0.00168687    -0.00043514    -0.00125173     0.00031213    -0.00031213     0.13091908    -0.0500377     -0.03223791    -0.04864346]\n",
      " [    1.90189019     1.90189019     1.90189019     0.46070031     0.0054173      0.01365045     0.01256046     0.01167907    -0.0530413             nan     0.00172017     0.00290929     0.00142314    -0.00433243    -0.00143314     0.00143314    -0.0500377      0.21869287    -0.06722302    -0.10143214]\n",
      " [    4.97344734     4.97344734     4.97344734     1.50794233     0.01778108     0.0321025      0.05826007     0.27726086    -0.11515072            nan     0.00283428    -0.00105781    -0.00050195     0.00155976     0.00951585    -0.00951585    -0.03223791    -0.06722302     0.16481087    -0.06534993]\n",
      " [   -1.36323632    -1.36323632    -1.36323632    -0.87426255    -0.01316867    -0.01918882    -0.02783718    -0.09215702     0.05035704            nan    -0.00174017    -0.00353835    -0.00048605     0.0040244     -0.00839484     0.00839484    -0.04864346    -0.10143214    -0.06534993     0.21542554]]\n"
     ]
    }
   ],
   "source": [
    "# Step 1: obtain all data from singular_one_hot\n",
    "soh = pd.read_csv(\"../data/singular_one_hot.csv\")\n",
    "soh = soh.drop(columns=[\"previous_sport\"])\n",
    "soh2 = soh.to_numpy().T\n",
    "np. set_printoptions(threshold=np.inf, suppress=True, linewidth=np. inf)\n",
    "print(np.cov(soh2))\n",
    "morning_oh = soh[soh[\"x0_morning\"] == 1.0]\n",
    "noon_oh = soh[soh[\"x0_noon\"] == 1.0]\n",
    "evening_oh = soh[soh[\"x0_evening\"] == 1.0]"
   ]
  },
  {
   "cell_type": "code",
   "execution_count": 101,
   "metadata": {},
   "outputs": [
    {
     "name": "stdout",
     "output_type": "stream",
     "text": [
      "                            OLS Regression Results                            \n",
      "==============================================================================\n",
      "Dep. Variable:                  score   R-squared:                       0.514\n",
      "Model:                            OLS   Adj. R-squared:                  0.505\n",
      "Method:                 Least Squares   F-statistic:                     61.02\n",
      "Date:                Mon, 20 Mar 2023   Prob (F-statistic):           1.00e-75\n",
      "Time:                        21:24:29   Log-Likelihood:                -2152.5\n",
      "No. Observations:                 530   AIC:                             4325.\n",
      "Df Residuals:                     520   BIC:                             4368.\n",
      "Df Model:                           9                                         \n",
      "Covariance Type:            nonrobust                                         \n",
      "====================================================================================================\n",
      "                                       coef    std err          t      P>|t|      [0.025      0.975]\n",
      "----------------------------------------------------------------------------------------------------\n",
      "Intercept                           -1.2297      2.729     -0.451      0.652      -6.591       4.132\n",
      "fitness_score                       31.0923      1.996     15.580      0.000      27.172      35.013\n",
      "extra_strategy_sessions_attended     2.9218      0.221     13.245      0.000       2.488       3.355\n",
      "hours_of_sleep                      -0.1748      0.185     -0.947      0.344      -0.538       0.188\n",
      "meals                                1.6197      0.473      3.424      0.001       0.690       2.549\n",
      "east_coast                          -2.1750      1.382     -1.574      0.116      -4.890       0.540\n",
      "early_bird                           5.6745      1.621      3.500      0.001       2.490       8.859\n",
      "frosh                                1.7635      2.039      0.865      0.388      -2.242       5.769\n",
      "junior                               2.7640      1.561      1.771      0.077      -0.302       5.830\n",
      "senior                               5.5904      1.953      2.862      0.004       1.753       9.428\n",
      "==============================================================================\n",
      "Omnibus:                        7.902   Durbin-Watson:                   1.793\n",
      "Prob(Omnibus):                  0.019   Jarque-Bera (JB):               12.142\n",
      "Skew:                          -0.021   Prob(JB):                      0.00231\n",
      "Kurtosis:                       3.740   Cond. No.                         47.1\n",
      "==============================================================================\n",
      "\n",
      "Notes:\n",
      "[1] Standard Errors assume that the covariance matrix of the errors is correctly specified.\n"
     ]
    }
   ],
   "source": [
    "# Step 2: run regression on the data for morning\n",
    "formula = \"score ~ fitness_score + extra_strategy_sessions_attended + hours_of_sleep + meals + east_coast + early_bird + frosh + junior + senior\"\n",
    "morning_result = run_ols(formula, morning_oh, print_data=True)"
   ]
  },
  {
   "cell_type": "code",
   "execution_count": 102,
   "metadata": {},
   "outputs": [
    {
     "name": "stdout",
     "output_type": "stream",
     "text": [
      "                            OLS Regression Results                            \n",
      "==============================================================================\n",
      "Dep. Variable:                  score   R-squared:                       0.454\n",
      "Model:                            OLS   Adj. R-squared:                  0.452\n",
      "Method:                 Least Squares   F-statistic:                     295.4\n",
      "Date:                Mon, 20 Mar 2023   Prob (F-statistic):               0.00\n",
      "Time:                        21:24:30   Log-Likelihood:                -13236.\n",
      "No. Observations:                3210   AIC:                         2.649e+04\n",
      "Df Residuals:                    3200   BIC:                         2.655e+04\n",
      "Df Model:                           9                                         \n",
      "Covariance Type:            nonrobust                                         \n",
      "====================================================================================================\n",
      "                                       coef    std err          t      P>|t|      [0.025      0.975]\n",
      "----------------------------------------------------------------------------------------------------\n",
      "Intercept                            4.2793      1.108      3.862      0.000       2.107       6.452\n",
      "fitness_score                       27.5034      0.759     36.215      0.000      26.014      28.993\n",
      "extra_strategy_sessions_attended     2.6269      0.093     28.215      0.000       2.444       2.809\n",
      "hours_of_sleep                       0.2228      0.079      2.834      0.005       0.069       0.377\n",
      "meals                                0.6954      0.203      3.418      0.001       0.297       1.094\n",
      "east_coast                          -0.2803      0.588     -0.477      0.634      -1.433       0.872\n",
      "early_bird                          -1.6242      0.705     -2.303      0.021      -3.007      -0.241\n",
      "frosh                                0.1897      0.823      0.231      0.818      -1.423       1.802\n",
      "junior                               1.1647      0.668      1.743      0.081      -0.146       2.475\n",
      "senior                               3.6065      0.804      4.488      0.000       2.031       5.182\n",
      "==============================================================================\n",
      "Omnibus:                       82.115   Durbin-Watson:                   1.603\n",
      "Prob(Omnibus):                  0.000   Jarque-Bera (JB):              182.327\n",
      "Skew:                           0.096   Prob(JB):                     2.56e-40\n",
      "Kurtosis:                       4.152   Cond. No.                         44.4\n",
      "==============================================================================\n",
      "\n",
      "Notes:\n",
      "[1] Standard Errors assume that the covariance matrix of the errors is correctly specified.\n"
     ]
    }
   ],
   "source": [
    "# Step 3: run regression on the data for noon\n",
    "formula = \"score ~ fitness_score + extra_strategy_sessions_attended + hours_of_sleep + meals + east_coast + early_bird + frosh + junior + senior\"\n",
    "noon_result = run_ols(formula, noon_oh, print_data=True)"
   ]
  },
  {
   "cell_type": "code",
   "execution_count": 103,
   "metadata": {},
   "outputs": [
    {
     "name": "stdout",
     "output_type": "stream",
     "text": [
      "                            OLS Regression Results                            \n",
      "==============================================================================\n",
      "Dep. Variable:                  score   R-squared:                       0.597\n",
      "Model:                            OLS   Adj. R-squared:                  0.594\n",
      "Method:                 Least Squares   F-statistic:                     205.8\n",
      "Date:                Mon, 20 Mar 2023   Prob (F-statistic):          1.72e-239\n",
      "Time:                        21:24:30   Log-Likelihood:                -4987.2\n",
      "No. Observations:                1260   AIC:                             9994.\n",
      "Df Residuals:                    1250   BIC:                         1.005e+04\n",
      "Df Model:                           9                                         \n",
      "Covariance Type:            nonrobust                                         \n",
      "====================================================================================================\n",
      "                                       coef    std err          t      P>|t|      [0.025      0.975]\n",
      "----------------------------------------------------------------------------------------------------\n",
      "Intercept                            5.5781      1.535      3.634      0.000       2.567       8.590\n",
      "fitness_score                       32.6944      1.184     27.604      0.000      30.371      35.018\n",
      "extra_strategy_sessions_attended     3.2198      0.131     24.552      0.000       2.963       3.477\n",
      "hours_of_sleep                       0.2273      0.115      1.981      0.048       0.002       0.453\n",
      "meals                                1.0403      0.284      3.663      0.000       0.483       1.597\n",
      "east_coast                          -2.1715      0.810     -2.682      0.007      -3.760      -0.583\n",
      "early_bird                          -8.6112      0.971     -8.872      0.000     -10.515      -6.707\n",
      "frosh                               -0.7599      1.116     -0.681      0.496      -2.949       1.429\n",
      "junior                              -0.0739      0.921     -0.080      0.936      -1.882       1.734\n",
      "senior                               2.5415      1.136      2.237      0.025       0.313       4.770\n",
      "==============================================================================\n",
      "Omnibus:                       16.790   Durbin-Watson:                   1.765\n",
      "Prob(Omnibus):                  0.000   Jarque-Bera (JB):               27.358\n",
      "Skew:                          -0.060   Prob(JB):                     1.15e-06\n",
      "Kurtosis:                       3.712   Cond. No.                         44.7\n",
      "==============================================================================\n",
      "\n",
      "Notes:\n",
      "[1] Standard Errors assume that the covariance matrix of the errors is correctly specified.\n"
     ]
    }
   ],
   "source": [
    "# Step 4: run regression on the data for evening\n",
    "formula = \"score ~ fitness_score + extra_strategy_sessions_attended + hours_of_sleep + meals + east_coast + early_bird + frosh + junior + senior\"\n",
    "evening_result = run_ols(formula, evening_oh, print_data=True)"
   ]
  },
  {
   "cell_type": "code",
   "execution_count": 104,
   "metadata": {},
   "outputs": [],
   "source": [
    "# Step 5: prediction function\n",
    "keys = {\"fitness_score\", \"extra_strategy_sessions_attended\", \"hours_of_sleep\", \"meals\", \"east_coast\", \"early_bird\", \"frosh\", \"junior\", \"senior\"}\n",
    "def predict_score(type, player):\n",
    "    ols_prediction_model = None\n",
    "    player_avg = player.mean(axis=0)\n",
    "    if type == \"morning\":\n",
    "        ols_prediction_model = morning_result.params\n",
    "    elif type == \"noon\":\n",
    "        ols_prediction_model = noon_result.params\n",
    "    elif type == \"evening\":\n",
    "        ols_prediction_model = evening_result.params\n",
    "    else:\n",
    "        print(\"this is illegal\")\n",
    "\n",
    "    # return prediction\n",
    "    return ols_prediction_model[\"Intercept\"] + np.sum([ols_prediction_model[key] * player_avg[key] for key in keys])"
   ]
  },
  {
   "cell_type": "code",
   "execution_count": 105,
   "metadata": {},
   "outputs": [
    {
     "name": "stderr",
     "output_type": "stream",
     "text": [
      "/var/folders/h3/v6p39mmn4snd_1b2tm2knxnw0000gn/T/ipykernel_65668/185969212.py:5: FutureWarning: Dropping of nuisance columns in DataFrame reductions (with 'numeric_only=None') is deprecated; in a future version this will raise TypeError.  Select only valid columns before calling the reduction.\n",
      "  player_avg = player.mean(axis=0)\n"
     ]
    }
   ],
   "source": [
    "pred_score = np.zeros((3, 1000))\n",
    "\n",
    "for i in range(1000):\n",
    "    player = players[i]\n",
    "    # replaced by predict_score function\n",
    "    pred_score[0][i] = predict_score(\"morning\", player)\n",
    "    pred_score[1][i] = predict_score(\"noon\", player)\n",
    "    pred_score[2][i] = predict_score(\"evening\", player)\n",
    "    # for _, row in player.iterrows():\n",
    "    #     if row[\"game_scheduled\"] == \"morning\":\n",
    "    #         total_score[0][i] += row[\"score\"]\n",
    "    #         num_score[0][i] += 1\n",
    "    #     elif row[\"game_scheduled\"] == \"noon\":\n",
    "    #         total_score[1][i] += row[\"score\"]\n",
    "    #         num_score[1][i] += 1\n",
    "    #     elif row[\"game_scheduled\"] == \"evening\":\n",
    "    #         total_score[2][i] += row[\"score\"]\n",
    "    #         num_score[2][i] += 1\n",
    "\n",
    "# avg_score = np.divide(total_score, num_score, out=np.zeros_like(total_score), where=num_score!=0)\n",
    "# pred_score\n",
    "# avg_score[0] = \"m\", avg_score[1] = \"n\", avg_score[2] = \"e\"\n",
    "# huge problem with expected_score as some of the scores are 0\n",
    "# maybe find trend between all player's m, n, e, find which covariates affect this sport and make a model given expected score and covariates, obtain m, n, and e?"
   ]
  },
  {
   "cell_type": "code",
   "execution_count": 106,
   "metadata": {},
   "outputs": [
    {
     "name": "stdout",
     "output_type": "stream",
     "text": [
      "11.000027816393704\n"
     ]
    }
   ],
   "source": [
    "expected_score = np.sum(pred_score, axis=0) / 3\n",
    "# determine f(x, y)\n",
    "mle = MLE(\"../data/previous_season_results.csv\")\n",
    "sigma = mle.calculate_MLE() # obtain from MLE\n",
    "print(sigma)\n",
    "\n",
    "def winProb(score_1, score_2):\n",
    "    return 1 - norm(loc = score_1 - score_2 , scale = sigma).cdf(0)"
   ]
  },
  {
   "cell_type": "code",
   "execution_count": 107,
   "metadata": {},
   "outputs": [
    {
     "name": "stdout",
     "output_type": "stream",
     "text": [
      "these are our top athletes: [138 235 461 660 359 129 791 521 760 268]\n",
      "our team score is:  76.8493\n",
      "Expected number of wins:  11.948384818487417\n"
     ]
    }
   ],
   "source": [
    "# test top scores\n",
    "player_data = []\n",
    "for i in range(1000):\n",
    "    player_data.append(pd.read_csv(\"../data/player_data/student_\" + str(i + 1) + \".csv\"))\n",
    "\n",
    "player_avg = []\n",
    "for i in range(1000):\n",
    "    player_avg.append(np.average(player_data[i][\"score\"]))\n",
    "\n",
    "player_avg = np.array(player_avg)\n",
    "\n",
    "top = np.argpartition(player_avg, -10)[-10:] + 1\n",
    "print(\"these are our top athletes:\", top)\n",
    "\n",
    "# team score\n",
    "top_s = player_avg[top - 1]\n",
    "tts = np.average(top_s)\n",
    "print(\"our team score is: \", tts)\n",
    "\n",
    "# expected number of wins\n",
    "matchup = pd.read_csv(\"../data/season_match_up.csv\")\n",
    "matchup = matchup.to_numpy()[0, 1:] # 20 games\n",
    "E_win = np.sum([winProb(tts, matchup_score) for matchup_score in matchup])\n",
    "print(\"Expected number of wins: \", E_win)"
   ]
  },
  {
   "cell_type": "code",
   "execution_count": 108,
   "metadata": {},
   "outputs": [
    {
     "name": "stdout",
     "output_type": "stream",
     "text": [
      "these are our top athletes: [856 280 760 725 295 888 842 129 976 608]\n",
      "our team score is:  66.89204295706729\n",
      "Expected number of wins:  7.8269666841508965\n"
     ]
    }
   ],
   "source": [
    "# to maximize E[win], we should choose the 10 highest players\n",
    "top_athletes = np.argpartition(expected_score, -10)[-10:] + 1\n",
    "print(\"these are our top athletes:\", top_athletes)\n",
    "\n",
    "# team score\n",
    "top_scores = expected_score[top_athletes - 1]\n",
    "top_team_score = np.average(top_scores)\n",
    "print(\"our team score is: \", top_team_score)\n",
    "\n",
    "# expected number of wins\n",
    "matchup = pd.read_csv(\"../data/season_match_up.csv\")\n",
    "matchup = matchup.to_numpy()[0, 1:] # 20 games\n",
    "E_win = np.sum([winProb(top_team_score, matchup_score) for matchup_score in matchup])\n",
    "print(\"Expected number of wins: \", E_win)"
   ]
  },
  {
   "cell_type": "code",
   "execution_count": 109,
   "metadata": {},
   "outputs": [],
   "source": [
    "consistency = np.zeros((3, 1000))\n",
    "for i in range(consistency.shape[0]):\n",
    "    for j in range(consistency.shape[1]):\n",
    "        consistency[i, j] = np.sum([winProb(pred_score[i, j], matchup_score) for matchup_score in matchup])\n",
    "\n",
    "# (3, 1000)\n",
    "consistency = np.average(consistency, axis=0)"
   ]
  },
  {
   "cell_type": "code",
   "execution_count": 152,
   "metadata": {},
   "outputs": [
    {
     "name": "stdout",
     "output_type": "stream",
     "text": [
      "these are our consistent athlete:  [856 280 760 725 129 295 842 976 888 608]\n",
      "our team score is:  66.89204295706729 64.74517520175291 62.151500699902854 73.77945296954611\n"
     ]
    },
    {
     "data": {
      "text/plain": [
       "2.9275469999615842e-15"
      ]
     },
     "execution_count": 152,
     "metadata": {},
     "output_type": "execute_result"
    }
   ],
   "source": [
    "consistent_athletes = np.argpartition(consistency, -10)[-10:] + 1\n",
    "print(\"these are our consistent athlete: \", consistent_athletes)\n",
    "\n",
    "# team score\n",
    "consistent_scores = expected_score[consistent_athletes - 1]\n",
    "consistent_team_score = np.average(consistent_scores)\n",
    "consistent_morning_score = np.average(pred_score[0, consistent_athletes - 1])\n",
    "consistent_noon_score = np.average(pred_score[1, consistent_athletes - 1])\n",
    "consistent_evening_score = np.average(pred_score[2, consistent_athletes - 1])\n",
    "print(\"our team score is: \", consistent_team_score, consistent_morning_score, consistent_noon_score, consistent_evening_score)\n",
    "\n",
    "# probability of losing a single game\n",
    "p_lose = np.prod([(winProb(consistent_morning_score, matchup_score) + winProb(consistent_noon_score, matchup_score) + winProb(consistent_evening_score, matchup_score)) / 3 for matchup_score in matchup])\n",
    "p_lose"
   ]
  },
  {
   "cell_type": "code",
   "execution_count": 156,
   "metadata": {},
   "outputs": [
    {
     "name": "stdout",
     "output_type": "stream",
     "text": [
      "these are our used athletes: {128, 294, 358, 520, 841, 137, 234, 460, 267, 855, 975, 887, 659, 724, 790, 759, 279, 607}\n",
      "western team:  [526, 761, 856, 683, 725, 836, 942, 877, 349, 605]\n",
      "eastern Team:  [415, 608, 976, 295, 842, 280, 629, 521, 268, 190]\n"
     ]
    }
   ],
   "source": [
    "used_athletes = set(list(consistent_athletes - 1) + list(top - 1))\n",
    "print(\"these are our used athletes:\", used_athletes)\n",
    "pred_score.shape\n",
    "# west coast morning, east coast evening\n",
    "# np.argpartition(expected_score, -10)[-10:] + 1\n",
    "top_of_the_morning = np.argpartition(pred_score[0], -10 - len(used_athletes))[-10 - len(used_athletes):] + 1\n",
    "top_of_the_evening = np.argpartition(pred_score[2], -10 - len(used_athletes))[-10 - len(used_athletes):] + 1\n",
    "\n",
    "best_western = []\n",
    "eastern_babies = []\n",
    "for morning_athlete in top_of_the_morning:\n",
    "    if morning_athlete not in used_athletes:\n",
    "        best_western.append(morning_athlete)\n",
    "\n",
    "    if len(best_western) == 10:\n",
    "        break\n",
    "\n",
    "for evening_athlete in top_of_the_evening:\n",
    "    if evening_athlete not in used_athletes and evening_athlete not in best_western:\n",
    "        eastern_babies.append(evening_athlete)\n",
    "\n",
    "    if len(eastern_babies) == 10:\n",
    "        break\n",
    "\n",
    "print(\"western team: \", best_western)\n",
    "print(\"eastern Team: \", eastern_babies)"
   ]
  },
  {
   "cell_type": "code",
   "execution_count": null,
   "metadata": {},
   "outputs": [],
   "source": []
  }
 ],
 "metadata": {
  "kernelspec": {
   "display_name": "Python 3.9.7 ('base')",
   "language": "python",
   "name": "python3"
  },
  "language_info": {
   "codemirror_mode": {
    "name": "ipython",
    "version": 3
   },
   "file_extension": ".py",
   "mimetype": "text/x-python",
   "name": "python",
   "nbconvert_exporter": "python",
   "pygments_lexer": "ipython3",
   "version": "3.9.7"
  },
  "orig_nbformat": 4,
  "vscode": {
   "interpreter": {
    "hash": "31fbef9df90861d1958267d2117435dfa788463010f21c14a474ff8f22582477"
   }
  }
 },
 "nbformat": 4,
 "nbformat_minor": 2
}
