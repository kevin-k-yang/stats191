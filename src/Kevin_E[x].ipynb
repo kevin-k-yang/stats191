{
 "cells": [
  {
   "cell_type": "code",
   "execution_count": 38,
   "metadata": {},
   "outputs": [],
   "source": [
    "import pandas as pd\n",
    "from process import run_ols\n",
    "from sklearn.preprocessing import OneHotEncoder\n",
    "import numpy as np\n",
    "from scipy.stats import norm\n",
    "from MLE import MLE\n",
    "from process import run_ols"
   ]
  },
  {
   "cell_type": "code",
   "execution_count": 39,
   "metadata": {},
   "outputs": [],
   "source": [
    "players = [] # array of dataframes where players[i] is the i+1th player's data\n",
    "for i in range(1000):\n",
    "    file = \"../data/player_data_one_hot/student_\" + str(i + 1) + \"_one_hot.csv\"\n",
    "    players.append(pd.read_csv(file))\n",
    "# maybe find trend between all player's m, n, e, find which covariates affect this sport and\n",
    "# make a model given expected score and covariates, obtain m, n, and e?"
   ]
  },
  {
   "cell_type": "code",
   "execution_count": 40,
   "metadata": {},
   "outputs": [],
   "source": [
    "# Step 1: obtain all data from singular_one_hot\n",
    "soh = pd.read_csv(\"../data/singular_one_hot.csv\")\n",
    "morning_oh = soh[soh[\"x0_morning\"] == 1.0]\n",
    "noon_oh = soh[soh[\"x0_noon\"] == 1.0]\n",
    "evening_oh = soh[soh[\"x0_evening\"] == 1.0]"
   ]
  },
  {
   "cell_type": "code",
   "execution_count": 53,
   "metadata": {},
   "outputs": [
    {
     "name": "stdout",
     "output_type": "stream",
     "text": [
      "                            OLS Regression Results                            \n",
      "==============================================================================\n",
      "Dep. Variable:                  score   R-squared:                       0.514\n",
      "Model:                            OLS   Adj. R-squared:                  0.505\n",
      "Method:                 Least Squares   F-statistic:                     61.02\n",
      "Date:                Sat, 18 Mar 2023   Prob (F-statistic):           1.00e-75\n",
      "Time:                        14:16:56   Log-Likelihood:                -2152.5\n",
      "No. Observations:                 530   AIC:                             4325.\n",
      "Df Residuals:                     520   BIC:                             4368.\n",
      "Df Model:                           9                                         \n",
      "Covariance Type:            nonrobust                                         \n",
      "====================================================================================================\n",
      "                                       coef    std err          t      P>|t|      [0.025      0.975]\n",
      "----------------------------------------------------------------------------------------------------\n",
      "Intercept                            1.3553      1.119      1.211      0.227      -0.844       3.555\n",
      "fitness_score                       31.0923      1.996     15.580      0.000      27.172      35.013\n",
      "extra_strategy_sessions_attended     2.9218      0.221     13.245      0.000       2.488       3.355\n",
      "hours_of_sleep                      -0.1748      0.185     -0.947      0.344      -0.538       0.188\n",
      "meals                                1.6197      0.473      3.424      0.001       0.690       2.549\n",
      "east_coast                          -0.4098      0.927     -0.442      0.659      -2.231       1.411\n",
      "west_coast                           1.7652      0.850      2.076      0.038       0.095       3.435\n",
      "early_bird                           3.5149      1.061      3.312      0.001       1.430       5.600\n",
      "night_owl                           -2.1596      0.903     -2.393      0.017      -3.933      -0.387\n",
      "frosh                               -0.4271      1.567     -0.273      0.785      -3.506       2.652\n",
      "junior                               0.5734      1.020      0.562      0.574      -1.430       2.576\n",
      "senior                               3.3997      1.380      2.464      0.014       0.689       6.111\n",
      "soph                                -2.1906      1.056     -2.075      0.039      -4.265      -0.116\n",
      "==============================================================================\n",
      "Omnibus:                        7.902   Durbin-Watson:                   1.793\n",
      "Prob(Omnibus):                  0.019   Jarque-Bera (JB):               12.142\n",
      "Skew:                          -0.021   Prob(JB):                      0.00231\n",
      "Kurtosis:                       3.740   Cond. No.                     1.23e+17\n",
      "==============================================================================\n",
      "\n",
      "Notes:\n",
      "[1] Standard Errors assume that the covariance matrix of the errors is correctly specified.\n",
      "[2] The smallest eigenvalue is 3.23e-30. This might indicate that there are\n",
      "strong multicollinearity problems or that the design matrix is singular.\n"
     ]
    }
   ],
   "source": [
    "# Step 2: run regression on the data for morning\n",
    "formula = \"score ~ fitness_score + extra_strategy_sessions_attended + hours_of_sleep + meals + east_coast + west_coast + early_bird + night_owl + frosh + junior + senior + soph\"\n",
    "morning_result = run_ols(formula, morning_oh, print_data=True)"
   ]
  },
  {
   "cell_type": "code",
   "execution_count": 55,
   "metadata": {},
   "outputs": [
    {
     "name": "stdout",
     "output_type": "stream",
     "text": [
      "                            OLS Regression Results                            \n",
      "==============================================================================\n",
      "Dep. Variable:                  score   R-squared:                       0.454\n",
      "Model:                            OLS   Adj. R-squared:                  0.452\n",
      "Method:                 Least Squares   F-statistic:                     295.4\n",
      "Date:                Sat, 18 Mar 2023   Prob (F-statistic):               0.00\n",
      "Time:                        14:18:35   Log-Likelihood:                -13236.\n",
      "No. Observations:                3210   AIC:                         2.649e+04\n",
      "Df Residuals:                    3200   BIC:                         2.655e+04\n",
      "Df Model:                           9                                         \n",
      "Covariance Type:            nonrobust                                         \n",
      "====================================================================================================\n",
      "                                       coef    std err          t      P>|t|      [0.025      0.975]\n",
      "----------------------------------------------------------------------------------------------------\n",
      "Intercept                            2.0299      0.470      4.321      0.000       1.109       2.951\n",
      "fitness_score                       27.5034      0.759     36.215      0.000      26.014      28.993\n",
      "extra_strategy_sessions_attended     2.6269      0.093     28.215      0.000       2.444       2.809\n",
      "hours_of_sleep                       0.2228      0.079      2.834      0.005       0.069       0.377\n",
      "meals                                0.6954      0.203      3.418      0.001       0.297       1.094\n",
      "east_coast                           0.8748      0.392      2.230      0.026       0.106       1.644\n",
      "west_coast                           1.1551      0.360      3.213      0.001       0.450       1.860\n",
      "early_bird                           0.2028      0.467      0.434      0.664      -0.713       1.119\n",
      "night_owl                            1.8271      0.375      4.867      0.000       1.091       2.563\n",
      "frosh                               -0.5431      0.612     -0.887      0.375      -1.743       0.657\n",
      "junior                               0.4319      0.447      0.966      0.334      -0.445       1.309\n",
      "senior                               2.8738      0.565      5.086      0.000       1.766       3.982\n",
      "soph                                -0.7327      0.439     -1.670      0.095      -1.593       0.127\n",
      "==============================================================================\n",
      "Omnibus:                       82.115   Durbin-Watson:                   1.603\n",
      "Prob(Omnibus):                  0.000   Jarque-Bera (JB):              182.327\n",
      "Skew:                           0.096   Prob(JB):                     2.56e-40\n",
      "Kurtosis:                       4.152   Cond. No.                     3.43e+16\n",
      "==============================================================================\n",
      "\n",
      "Notes:\n",
      "[1] Standard Errors assume that the covariance matrix of the errors is correctly specified.\n",
      "[2] The smallest eigenvalue is 2.52e-28. This might indicate that there are\n",
      "strong multicollinearity problems or that the design matrix is singular.\n"
     ]
    }
   ],
   "source": [
    "# Step 3: run regression on the data for noon\n",
    "formula = \"score ~ fitness_score + extra_strategy_sessions_attended + hours_of_sleep + meals + east_coast + west_coast + early_bird + night_owl + frosh + junior + senior + soph\"\n",
    "noon_result = run_ols(formula, noon_oh, print_data=True)"
   ]
  },
  {
   "cell_type": "code",
   "execution_count": 54,
   "metadata": {},
   "outputs": [
    {
     "name": "stdout",
     "output_type": "stream",
     "text": [
      "                            OLS Regression Results                            \n",
      "==============================================================================\n",
      "Dep. Variable:                  score   R-squared:                       0.597\n",
      "Model:                            OLS   Adj. R-squared:                  0.594\n",
      "Method:                 Least Squares   F-statistic:                     205.8\n",
      "Date:                Sat, 18 Mar 2023   Prob (F-statistic):          1.72e-239\n",
      "Time:                        14:17:12   Log-Likelihood:                -4987.2\n",
      "No. Observations:                1260   AIC:                             9994.\n",
      "Df Residuals:                    1250   BIC:                         1.005e+04\n",
      "Df Model:                           9                                         \n",
      "Covariance Type:            nonrobust                                         \n",
      "====================================================================================================\n",
      "                                       coef    std err          t      P>|t|      [0.025      0.975]\n",
      "----------------------------------------------------------------------------------------------------\n",
      "Intercept                            0.2727      0.649      0.420      0.675      -1.001       1.547\n",
      "fitness_score                       32.6944      1.184     27.604      0.000      30.371      35.018\n",
      "extra_strategy_sessions_attended     3.2198      0.131     24.552      0.000       2.963       3.477\n",
      "hours_of_sleep                       0.2273      0.115      1.981      0.048       0.002       0.453\n",
      "meals                                1.0403      0.284      3.663      0.000       0.483       1.597\n",
      "east_coast                          -0.9494      0.544     -1.744      0.081      -2.017       0.119\n",
      "west_coast                           1.2221      0.492      2.483      0.013       0.256       2.188\n",
      "early_bird                          -4.1693      0.636     -6.555      0.000      -5.417      -2.921\n",
      "night_owl                            4.4420      0.527      8.434      0.000       3.409       5.475\n",
      "frosh                               -1.1187      0.823     -1.359      0.174      -2.734       0.496\n",
      "junior                              -0.4326      0.597     -0.724      0.469      -1.605       0.740\n",
      "senior                               2.1828      0.797      2.739      0.006       0.620       3.746\n",
      "soph                                -0.3587      0.613     -0.585      0.559      -1.562       0.845\n",
      "==============================================================================\n",
      "Omnibus:                       16.790   Durbin-Watson:                   1.765\n",
      "Prob(Omnibus):                  0.000   Jarque-Bera (JB):               27.358\n",
      "Skew:                          -0.060   Prob(JB):                     1.15e-06\n",
      "Kurtosis:                       3.712   Cond. No.                     4.62e+16\n",
      "==============================================================================\n",
      "\n",
      "Notes:\n",
      "[1] Standard Errors assume that the covariance matrix of the errors is correctly specified.\n",
      "[2] The smallest eigenvalue is 5.26e-29. This might indicate that there are\n",
      "strong multicollinearity problems or that the design matrix is singular.\n"
     ]
    }
   ],
   "source": [
    "# Step 4: run regression on the data for evening\n",
    "formula = \"score ~ fitness_score + extra_strategy_sessions_attended + hours_of_sleep + meals + east_coast + west_coast + early_bird + night_owl + frosh + junior + senior + soph\"\n",
    "evening_result = run_ols(formula, evening_oh, print_data=True)"
   ]
  },
  {
   "cell_type": "code",
   "execution_count": 44,
   "metadata": {},
   "outputs": [],
   "source": [
    "# Step 5: prediction function\n",
    "keys = {\"fitness_score\", \"extra_strategy_sessions_attended\", \"hours_of_sleep\", \"meals\", \"east_coast\", \"west_coast\", \"early_bird\", \"night_owl\", \"frosh\", \"junior\", \"senior\", \"soph\"}\n",
    "def predict_score(type, player):\n",
    "    ols_prediction_model = None\n",
    "    player_avg = player.mean(axis=0)\n",
    "    if type == \"morning\":\n",
    "        ols_prediction_model = morning_result.params\n",
    "    elif type == \"noon\":\n",
    "        ols_prediction_model = noon_result.params\n",
    "    elif type == \"evening\":\n",
    "        ols_prediction_model = evening_result.params\n",
    "    else:\n",
    "        print(\"this is illegal\")\n",
    "\n",
    "    # return prediction\n",
    "    return ols_prediction_model[\"Intercept\"] + np.sum([ols_prediction_model[key] * player_avg[key] for key in keys])"
   ]
  },
  {
   "cell_type": "code",
   "execution_count": 45,
   "metadata": {},
   "outputs": [
    {
     "name": "stderr",
     "output_type": "stream",
     "text": [
      "/var/folders/h3/v6p39mmn4snd_1b2tm2knxnw0000gn/T/ipykernel_65668/4193508436.py:5: FutureWarning: Dropping of nuisance columns in DataFrame reductions (with 'numeric_only=None') is deprecated; in a future version this will raise TypeError.  Select only valid columns before calling the reduction.\n",
      "  player_avg = player.mean(axis=0)\n"
     ]
    }
   ],
   "source": [
    "pred_score = np.zeros((3, 1000))\n",
    "\n",
    "for i in range(1000):\n",
    "    player = players[i]\n",
    "    # replaced by predict_score function\n",
    "    pred_score[0][i] = predict_score(\"morning\", player)\n",
    "    pred_score[1][i] = predict_score(\"noon\", player)\n",
    "    pred_score[2][i] = predict_score(\"evening\", player)\n",
    "    # for _, row in player.iterrows():\n",
    "    #     if row[\"game_scheduled\"] == \"morning\":\n",
    "    #         total_score[0][i] += row[\"score\"]\n",
    "    #         num_score[0][i] += 1\n",
    "    #     elif row[\"game_scheduled\"] == \"noon\":\n",
    "    #         total_score[1][i] += row[\"score\"]\n",
    "    #         num_score[1][i] += 1\n",
    "    #     elif row[\"game_scheduled\"] == \"evening\":\n",
    "    #         total_score[2][i] += row[\"score\"]\n",
    "    #         num_score[2][i] += 1\n",
    "\n",
    "# avg_score = np.divide(total_score, num_score, out=np.zeros_like(total_score), where=num_score!=0)\n",
    "# pred_score\n",
    "# avg_score[0] = \"m\", avg_score[1] = \"n\", avg_score[2] = \"e\"\n",
    "# huge problem with expected_score as some of the scores are 0\n",
    "# maybe find trend between all player's m, n, e, find which covariates affect this sport and make a model given expected score and covariates, obtain m, n, and e?"
   ]
  },
  {
   "cell_type": "code",
   "execution_count": 46,
   "metadata": {},
   "outputs": [
    {
     "name": "stdout",
     "output_type": "stream",
     "text": [
      "11.000027816393704\n"
     ]
    }
   ],
   "source": [
    "expected_score = np.sum(pred_score, axis=0) / 3\n",
    "# determine f(x, y)\n",
    "mle = MLE(\"../data/previous_season_results.csv\")\n",
    "sigma = mle.calculate_MLE() # obtain from MLE\n",
    "print(sigma)\n",
    "\n",
    "def winProb(score_1, score_2):\n",
    "    return 1 - norm(loc = score_1 - score_2 , scale = sigma).cdf(0)"
   ]
  },
  {
   "cell_type": "code",
   "execution_count": 59,
   "metadata": {},
   "outputs": [
    {
     "name": "stdout",
     "output_type": "stream",
     "text": [
      "these are our top athletes: [138 235 461 660 359 129 791 521 760 268]\n",
      "our team score is:  76.8493\n",
      "Expected number of wins:  11.948384818487417\n"
     ]
    }
   ],
   "source": [
    "# test top scores\n",
    "player_data = []\n",
    "for i in range(1000):\n",
    "    player_data.append(pd.read_csv(\"../data/player_data/student_\" + str(i + 1) + \".csv\"))\n",
    "\n",
    "player_avg = []\n",
    "for i in range(1000):\n",
    "    player_avg.append(np.average(player_data[i][\"score\"]))\n",
    "\n",
    "player_avg = np.array(player_avg)\n",
    "\n",
    "top = np.argpartition(player_avg, -10)[-10:] + 1\n",
    "print(\"these are our top athletes:\", top)\n",
    "\n",
    "# team score\n",
    "top_s = player_avg[top - 1]\n",
    "tts = np.average(top_s)\n",
    "print(\"our team score is: \", tts)\n",
    "\n",
    "# expected number of wins\n",
    "matchup = pd.read_csv(\"../data/season_match_up.csv\")\n",
    "matchup = matchup.to_numpy()[0, 1:] # 20 games\n",
    "E_win = np.sum([winProb(tts, matchup_score) for matchup_score in matchup])\n",
    "print(\"Expected number of wins: \", E_win)"
   ]
  },
  {
   "cell_type": "code",
   "execution_count": 47,
   "metadata": {},
   "outputs": [
    {
     "name": "stdout",
     "output_type": "stream",
     "text": [
      "these are our top athletes: [760 976 725 129 842 888 280 608 295 228]\n",
      "our team score is:  67.09215855780546\n",
      "Expected number of wins:  7.913032339544621\n"
     ]
    }
   ],
   "source": [
    "# to maximize E[win], we should choose the 10 highest players\n",
    "top_athletes = np.argpartition(expected_score, -10)[-10:] + 1\n",
    "print(\"these are our top athletes:\", top_athletes)\n",
    "\n",
    "# team score\n",
    "top_scores = expected_score[top_athletes - 1]\n",
    "top_team_score = np.average(top_scores)\n",
    "print(\"our team score is: \", top_team_score)\n",
    "\n",
    "# expected number of wins\n",
    "matchup = pd.read_csv(\"../data/season_match_up.csv\")\n",
    "matchup = matchup.to_numpy()[0, 1:] # 20 games\n",
    "E_win = np.sum([winProb(top_team_score, matchup_score) for matchup_score in matchup])\n",
    "print(\"Expected number of wins: \", E_win)"
   ]
  },
  {
   "cell_type": "code",
   "execution_count": 51,
   "metadata": {},
   "outputs": [
    {
     "data": {
      "text/plain": [
       "(3, 1000)"
      ]
     },
     "execution_count": 51,
     "metadata": {},
     "output_type": "execute_result"
    }
   ],
   "source": [
    "consistency = np.zeros((3, 1000))\n",
    "for i in range(consistency.shape[0]):\n",
    "    for j in range(consistency.shape[1]):\n",
    "        consistency[i, j] = np.sum([winProb(pred_score[i, j], matchup_score) for matchup_score in matchup])\n",
    "\n",
    "# (3, 1000)"
   ]
  },
  {
   "cell_type": "code",
   "execution_count": 52,
   "metadata": {},
   "outputs": [
    {
     "name": "stdout",
     "output_type": "stream",
     "text": [
      "[760 725 228 280 842 295 129 608 976 888]\n",
      "our team score is:  67.09215855780545 64.97511201010161 62.413013587343684 73.88835007597109\n"
     ]
    },
    {
     "data": {
      "text/plain": [
       "7.757366223828868e-19"
      ]
     },
     "execution_count": 52,
     "metadata": {},
     "output_type": "execute_result"
    }
   ],
   "source": [
    "consistency = np.average(consistency, axis=0)\n",
    "consistent_athletes = np.argpartition(consistency, -10)[-10:] + 1\n",
    "print(consistent_athletes)\n",
    "\n",
    "# team score\n",
    "consistent_scores = expected_score[consistent_athletes - 1]\n",
    "consistent_team_score = np.average(consistent_scores)\n",
    "consistent_morning_score = np.average(pred_score[0, consistent_athletes - 1])\n",
    "consistent_noon_score = np.average(pred_score[1, consistent_athletes - 1])\n",
    "consistent_evening_score = np.average(pred_score[2, consistent_athletes - 1])\n",
    "print(\"our team score is: \", consistent_team_score, consistent_morning_score, consistent_noon_score, consistent_evening_score)\n",
    "\n",
    "# probability of losing a single game\n",
    "p_lose = np.prod([(winProb(consistent_morning_score, matchup_score) + winProb(consistent_morning_score, matchup_score) + winProb(consistent_morning_score, matchup_score)) / 3 for matchup_score in matchup])\n",
    "p_lose\n",
    "# matchup = pd.read_csv(\"../data/season_match_up.csv\")\n",
    "# matchup = matchup.to_numpy()[0, 1:] # 20 games\n",
    "# E_win = np.sum([winProb(top_team_score, matchup_score) for matchup_score in matchup])\n",
    "# print(\"Expected number of wins: \", E_win)\n"
   ]
  }
 ],
 "metadata": {
  "kernelspec": {
   "display_name": "Python 3.9.7 ('base')",
   "language": "python",
   "name": "python3"
  },
  "language_info": {
   "codemirror_mode": {
    "name": "ipython",
    "version": 3
   },
   "file_extension": ".py",
   "mimetype": "text/x-python",
   "name": "python",
   "nbconvert_exporter": "python",
   "pygments_lexer": "ipython3",
   "version": "3.9.7"
  },
  "orig_nbformat": 4,
  "vscode": {
   "interpreter": {
    "hash": "31fbef9df90861d1958267d2117435dfa788463010f21c14a474ff8f22582477"
   }
  }
 },
 "nbformat": 4,
 "nbformat_minor": 2
}
