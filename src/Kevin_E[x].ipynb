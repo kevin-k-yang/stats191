{
 "cells": [
  {
   "cell_type": "code",
   "execution_count": 23,
   "metadata": {},
   "outputs": [],
   "source": [
    "import pandas as pd\n",
    "from process import run_ols\n",
    "from sklearn.preprocessing import OneHotEncoder\n",
    "import numpy as np\n",
    "from scipy.stats import norm\n",
    "from MLE import MLE\n",
    "from process import run_ols"
   ]
  },
  {
   "cell_type": "code",
   "execution_count": 24,
   "metadata": {},
   "outputs": [],
   "source": [
    "players = [] # array of dataframes where players[i] is the i+1th player's data\n",
    "for i in range(1000):\n",
    "    file = \"../data/player_data_one_hot/student_\" + str(i + 1) + \"_one_hot.csv\"\n",
    "    players.append(pd.read_csv(file))"
   ]
  },
  {
   "cell_type": "code",
   "execution_count": 25,
   "metadata": {},
   "outputs": [],
   "source": [
    "# maybe find trend between all player's m, n, e, find which covariates affect this sport and\n",
    "# make a model given expected score and covariates, obtain m, n, and e?\n",
    "\n",
    "# Step 1: obtain all data from singular_one_hot\n",
    "soh = pd.read_csv(\"../data/singular_one_hot.csv\")\n",
    "morning_oh = soh[soh[\"x0_morning\"] == 1.0]\n",
    "noon_oh = soh[soh[\"x0_noon\"] == 1.0]\n",
    "evening_oh = soh[soh[\"x0_evening\"] == 1.0]"
   ]
  },
  {
   "cell_type": "code",
   "execution_count": 28,
   "metadata": {},
   "outputs": [],
   "source": [
    "# Step 2: run regression on the data for morning\n",
    "formula = \"score ~ fitness_score + extra_strategy_sessions_attended + hours_of_sleep + meals + east_coast + west_coast + early_bird + night_owl + frosh + junior + senior + soph\"\n",
    "morning_result = run_ols(formula, morning_oh)"
   ]
  },
  {
   "cell_type": "code",
   "execution_count": 29,
   "metadata": {},
   "outputs": [],
   "source": [
    "# Step 3: run regression on the data for noon\n",
    "formula = \"score ~ fitness_score + extra_strategy_sessions_attended + hours_of_sleep + meals + east_coast + west_coast + early_bird + night_owl + frosh + junior + senior + soph\"\n",
    "noon_result = run_ols(formula, noon_oh)"
   ]
  },
  {
   "cell_type": "code",
   "execution_count": 30,
   "metadata": {},
   "outputs": [],
   "source": [
    "# Step 4: run regression on the data for evening\n",
    "formula = \"score ~ fitness_score + extra_strategy_sessions_attended + hours_of_sleep + meals + east_coast + west_coast + early_bird + night_owl + frosh + junior + senior + soph\"\n",
    "evening_result = run_ols(formula, evening_oh)"
   ]
  },
  {
   "cell_type": "code",
   "execution_count": 33,
   "metadata": {},
   "outputs": [
    {
     "name": "stdout",
     "output_type": "stream",
     "text": [
      "33.31234299566217\n"
     ]
    },
    {
     "name": "stderr",
     "output_type": "stream",
     "text": [
      "/var/folders/h3/v6p39mmn4snd_1b2tm2knxnw0000gn/T/ipykernel_51415/788651735.py:5: FutureWarning: Dropping of nuisance columns in DataFrame reductions (with 'numeric_only=None') is deprecated; in a future version this will raise TypeError.  Select only valid columns before calling the reduction.\n",
      "  player_avg = player.mean(axis=0)\n"
     ]
    }
   ],
   "source": [
    "# Step 5: prediction function\n",
    "keys = {\"fitness_score\", \"extra_strategy_sessions_attended\", \"hours_of_sleep\", \"meals\", \"east_coast\", \"west_coast\", \"early_bird\", \"night_owl\", \"frosh\", \"junior\", \"senior\", \"soph\"}\n",
    "def predict_score(type, player):\n",
    "    ols_prediction_model = None\n",
    "    player_avg = player.mean(axis=0)\n",
    "    if type == \"morning\":\n",
    "        ols_prediction_model = morning_result.params\n",
    "    elif type == \"noon\":\n",
    "        ols_prediction_model = noon_result.params\n",
    "    elif type == \"evening\":\n",
    "        ols_prediction_model = evening_result.params\n",
    "    else:\n",
    "        print(\"this is illegal\")\n",
    "\n",
    "    # return prediction\n",
    "    return ols_prediction_model[\"Intercept\"] + np.sum([ols_prediction_model[key] * player_avg[key] for key in keys])\n",
    "\n",
    "print(predict_score(\"morning\", players[0]))"
   ]
  },
  {
   "cell_type": "code",
   "execution_count": 3,
   "metadata": {},
   "outputs": [],
   "source": [
    "total_score = np.zeros((3, 1000))\n",
    "num_score = np.zeros((3, 1000))\n",
    "\n",
    "for i in range(1000):\n",
    "    player = players[i]\n",
    "    # replaced by predict_score function\n",
    "    for _, row in player.iterrows():\n",
    "        if row[\"game_scheduled\"] == \"morning\":\n",
    "            total_score[0][i] += row[\"score\"]\n",
    "            num_score[0][i] += 1\n",
    "        elif row[\"game_scheduled\"] == \"noon\":\n",
    "            total_score[1][i] += row[\"score\"]\n",
    "            num_score[1][i] += 1\n",
    "        elif row[\"game_scheduled\"] == \"evening\":\n",
    "            total_score[2][i] += row[\"score\"]\n",
    "            num_score[2][i] += 1\n",
    "\n",
    "avg_score = np.divide(total_score, num_score, out=np.zeros_like(total_score), where=num_score!=0)"
   ]
  },
  {
   "cell_type": "code",
   "execution_count": 4,
   "metadata": {},
   "outputs": [],
   "source": [
    "# avg_score[0] = \"m\", avg_score[1] = \"n\", avg_score[2] = \"e\"\n",
    "# huge problem with expected_score as some of the scores are 0\n",
    "# maybe find trend between all player's m, n, e, find which covariates affect this sport and make a model given expected score and covariates, obtain m, n, and e?\n",
    "expected_score = np.sum(avg_score, axis=0) / 3"
   ]
  },
  {
   "cell_type": "code",
   "execution_count": 5,
   "metadata": {},
   "outputs": [
    {
     "name": "stdout",
     "output_type": "stream",
     "text": [
      "10.828673870065314\n"
     ]
    }
   ],
   "source": [
    "# determine f(x, y)\n",
    "mle = MLE(\"../data/previous_season_results.csv\")\n",
    "sigma = mle.calculate_MLE() # obtain from MLE\n",
    "print(sigma)\n",
    "def winProb(score_1, score_2):\n",
    "    return 1 - norm(loc = score_1 - score_2 , scale = sigma).cdf(0)"
   ]
  },
  {
   "cell_type": "code",
   "execution_count": 18,
   "metadata": {},
   "outputs": [
    {
     "name": "stdout",
     "output_type": "stream",
     "text": [
      "these are our top athletes: [268 725 790  89 138 791 631 785 521 129]\n",
      "our team score is:  75.33198809523809\n",
      "Expected number of wins:  11.375058670272534\n"
     ]
    }
   ],
   "source": [
    "# to maximize E[win], we should choose the 10 highest players\n",
    "top_athletes = np.argpartition(expected_score, -10)[-10:] + 1\n",
    "print(\"these are our top athletes:\", top_athletes)\n",
    "\n",
    "# team score\n",
    "top_scores = expected_score[top_athletes - 1]\n",
    "top_team_score = np.average(top_scores)\n",
    "print(\"our team score is: \", top_team_score)\n",
    "\n",
    "# expected number of wins\n",
    "matchup = pd.read_csv(\"../data/season_match_up.csv\")\n",
    "matchup = matchup.to_numpy()[0, 1:] # 20 games\n",
    "E_win = np.sum([winProb(top_team_score, matchup_score) for matchup_score in matchup])\n",
    "print(\"Expected number of wins: \", E_win)"
   ]
  },
  {
   "cell_type": "code",
   "execution_count": null,
   "metadata": {},
   "outputs": [],
   "source": []
  }
 ],
 "metadata": {
  "kernelspec": {
   "display_name": "Python 3.9.7 ('base')",
   "language": "python",
   "name": "python3"
  },
  "language_info": {
   "codemirror_mode": {
    "name": "ipython",
    "version": 3
   },
   "file_extension": ".py",
   "mimetype": "text/x-python",
   "name": "python",
   "nbconvert_exporter": "python",
   "pygments_lexer": "ipython3",
   "version": "3.9.7"
  },
  "orig_nbformat": 4,
  "vscode": {
   "interpreter": {
    "hash": "31fbef9df90861d1958267d2117435dfa788463010f21c14a474ff8f22582477"
   }
  }
 },
 "nbformat": 4,
 "nbformat_minor": 2
}
